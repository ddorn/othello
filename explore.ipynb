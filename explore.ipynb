{
 "cells": [
  {
   "attachments": {},
   "cell_type": "markdown",
   "metadata": {},
   "source": [
    "# Exploration of OthelloGPT"
   ]
  },
  {
   "cell_type": "code",
   "execution_count": null,
   "outputs": [],
   "source": [
    "print(1 + 1)"
   ],
   "metadata": {
    "collapsed": false,
    "is_executing": true
   }
  },
  {
   "cell_type": "code",
   "execution_count": null,
   "metadata": {
    "is_executing": true
   },
   "outputs": [],
   "source": [
    "%load_ext autoreload\n",
    "%autoreload 2\n",
    "\n",
    "import os\n",
    "\n",
    "os.environ[\"ACCELERATE_DISABLE_RICH\"] = \"1\"\n",
    "os.environ[\"TORCH_USE_CUDA_DSA\"] = \"1\"\n",
    "os.environ[\"CUDA_LAUNCH_BLOCKING\"] = \"1\"\n",
    "\n",
    "from functools import partial\n",
    "from typing import Tuple, Union, Dict, Literal\n",
    "\n",
    "from rich import print as rprint\n",
    "from circuitsvis.attention import attention_patterns\n",
    "import einops\n",
    "import pandas as pd\n",
    "import plotly.express as px\n",
    "import torch as t\n",
    "import transformer_lens.utils as utils\n",
    "from dataclasses import dataclass, asdict\n",
    "import wandb\n",
    "from jaxtyping import Float, Int\n",
    "from torch import Tensor\n",
    "from transformer_lens import HookedTransformer\n",
    "from transformer_lens.hook_points import HookPoint\n",
    "\n",
    "from plotly_utils import imshow\n",
    "\n",
    "import circuitsvis\n",
    "\n",
    "import utils as u\n",
    "import circuit\n",
    "from utils import *\n",
    "from plotting import *\n",
    "from probes import get_probe, get_neels_probe, ProbeTrainingArgs, LitLinearProbe\n",
    "\n",
    "from othello_world.mechanistic_interpretability.mech_interp_othello_utils import (\n",
    "    plot_single_board, )\n",
    "\n",
    "\n"
   ]
  },
  {
   "attachments": {},
   "cell_type": "markdown",
   "metadata": {},
   "source": [
    "## Setup\n",
    "\n",
    "Things that you probably always want to run."
   ]
  },
  {
   "cell_type": "code",
   "execution_count": null,
   "metadata": {
    "is_executing": true
   },
   "outputs": [],
   "source": [
    "t.set_grad_enabled(False)\n",
    "device = \"cuda\" if t.cuda.is_available() else \"cpu\"\n",
    "\n",
    "cfg, model = get_othello_gpt(device)"
   ]
  },
  {
   "cell_type": "code",
   "execution_count": null,
   "metadata": {},
   "outputs": [],
   "source": [
    "val_tokens, val_valid = generate_training_data(100, 69)"
   ]
  },
  {
   "cell_type": "code",
   "execution_count": null,
   "metadata": {},
   "outputs": [],
   "source": [
    "# %% Loading sample data\n",
    "full_games_tokens, full_games_board_index = load_sample_games()\n",
    "num_games = 50\n",
    "focus_games_tokens = full_games_tokens[:num_games]\n",
    "focus_games_board_index = full_games_board_index[:num_games]\n",
    "assert (TOKENS_TO_BOARD[focus_games_tokens] == focus_games_board_index).all()\n",
    "\n",
    "focus_states = move_sequence_to_state(focus_games_board_index)\n",
    "focus_valid_moves = move_sequence_to_state(focus_games_board_index, mode=\"valid\")\n",
    "\n",
    "print(\"focus states:\", focus_states.shape)\n",
    "print(\"focus_valid_moves\", focus_valid_moves.shape)\n"
   ]
  },
  {
   "attachments": {},
   "cell_type": "markdown",
   "metadata": {},
   "source": [
    "## Exploring Othello"
   ]
  },
  {
   "cell_type": "code",
   "execution_count": null,
   "metadata": {},
   "outputs": [],
   "source": [
    "states = move_sequence_to_state(tokens_to_board(val_tokens[:1]), mode=\"black-white\")\n",
    "print(states.shape)\n",
    "(circuit.Kuit(model, states[0], [\"move\", \"row\", \"col\"])\n",
    "    .new_dim('facet')\n",
    "    .by('move', 'facet')\n",
    "    .plot()\n",
    ")\n"
   ]
  },
  {
   "attachments": {},
   "cell_type": "markdown",
   "metadata": {},
   "source": [
    "## Exploration of the model"
   ]
  },
  {
   "cell_type": "code",
   "execution_count": null,
   "metadata": {},
   "outputs": [],
   "source": [
    "kuit = circuit.Kuit(model)"
   ]
  },
  {
   "attachments": {},
   "cell_type": "markdown",
   "metadata": {},
   "source": [
    "### Token embeddings"
   ]
  },
  {
   "cell_type": "code",
   "execution_count": null,
   "metadata": {},
   "outputs": [],
   "source": [
    "(kuit.pos_embedding(True)\n",
    "     .plot(title=\"Normalised positional embedding matrix\")\n",
    ")\n",
    "(kuit.embedding(True)\n",
    "     .plot(title=\"Normalised token embedding matrix\")\n",
    "     .flatten()\n",
    "     .histogram(title=\"Histogram of normalised token embeddings values\")\n",
    ")\n",
    "(kuit.embedding()\n",
    "     .norm('dmodel')\n",
    "     [1:]  # skip the first one, which is big\n",
    "     .histogram(title=\"Histogram of token embeddings norms\", nbins=50)\n",
    ")"
   ]
  },
  {
   "attachments": {},
   "cell_type": "markdown",
   "metadata": {},
   "source": [
    "The token embeddings seem kinda 1-hot encoded"
   ]
  },
  {
   "cell_type": "code",
   "execution_count": null,
   "metadata": {},
   "outputs": [],
   "source": [
    "# Count the number of > 0.5 values along dmodel\n",
    "threshold = 0.2\n",
    "(kuit.embedding(True)\n",
    "     (lambda x: x.abs() > threshold)\n",
    "     .sum('vocab')\n",
    "     .line(title=f\"Number of tokens with embedding value > {threshold}\")\n",
    ")\n"
   ]
  },
  {
   "cell_type": "code",
   "execution_count": null,
   "metadata": {},
   "outputs": [],
   "source": [
    "(kuit.pos_embedding(True)\n",
    "     .pos_embedding(True)\n",
    "     .plot(title=\"Cosine similarity between positional embeddings\")\n",
    "     ['pos_1', ::2]\n",
    "     ['pos_2', ::2]\n",
    "     .plot(title=\"Cosine similarity between even positional embeddings\")\n",
    ")"
   ]
  },
  {
   "cell_type": "code",
   "execution_count": null,
   "metadata": {},
   "outputs": [],
   "source": [
    "(kuit.embedding(True)\n",
    "     .embedding(True)\n",
    "     .remove_diag()\n",
    "     .tokens_to_board('vocab_2', 0)\n",
    "     .new_dim('facet')\n",
    "     .by('vocab_1', 'facet')\n",
    "     .plot(title=\"Cosine similarity between token embeddings\",\n",
    "           height=600)\n",
    ")"
   ]
  },
  {
   "attachments": {},
   "cell_type": "markdown",
   "metadata": {},
   "source": [
    "### QK circuit of first layer"
   ]
  },
  {
   "cell_type": "code",
   "execution_count": null,
   "metadata": {},
   "outputs": [],
   "source": [
    "# (kuit\n",
    "#     .embedding()\n",
    "#     .new_dim('pos')\n",
    "#     .add(kuit.pos_embedding())\n",
    "#     .qk(0, key=kuit.embedding(), softmax=True)\n",
    "#     .by(\"pos\", \"head\")\n",
    "# ).plot()\n",
    "\n",
    "(kuit\n",
    "    .pos_embedding()\n",
    "    .normalise('dmodel')\n",
    "    .qk(0, key=kuit\n",
    "        .pos_embedding()\n",
    "        .normalise('dmodel')\n",
    "    )\n",
    "    .softmax()\n",
    "        (lambda x: x * t.arange(1, 60, device=device)[:, None].float())\n",
    "    .by('head')\n",
    "    .plot(title=\"Attention score from positional embeddings matching\")\n",
    ")\n",
    "    \n",
    "\n",
    "(kuit\n",
    "    .embedding()\n",
    "    .new_dim('pos')\n",
    "    .add(kuit.pos_embedding())\n",
    "    .norm(dim='dmodel')\n",
    "    ['vocab', 1:]\n",
    "    ['pos', 2:]\n",
    "    .plot(title=\"Distribution of the norm of the positional embeddings + token embeddings\",\n",
    "          height=800)\n",
    "    .flatten('vocab', 'pos')\n",
    "    .histogram(title=\"Distribution of the norm of the positional embeddings + token embeddings\")\n",
    ")\n",
    "\n",
    "\n",
    "\n",
    "# (C\n",
    "#     .embedding()\n",
    "#     .new_dim('pos')\n",
    "#     .add(C.pos_embedding())\n",
    "#     .qk(0, key=C\n",
    "#         .embedding())\n",
    "#     .softmax()\n",
    "# ).plot('head')"
   ]
  },
  {
   "cell_type": "code",
   "execution_count": null,
   "metadata": {},
   "outputs": [],
   "source": [
    "from itertools import product\n",
    "\n",
    "pos = kuit.pos_embedding()\n",
    "pos.name = \"pos\"\n",
    "emb = kuit.embed(val_tokens[0, :59], positional=False)\n",
    "emb.name = \"emb\"\n",
    "\n",
    "move_labels = [to_board_label(tokens_to_board(t)) for t in val_tokens[0, :59]]\n",
    "\n",
    "for key, query in product([pos, emb], [pos, emb]):\n",
    "    (key.normalise('dmodel')\n",
    "        .qk(0,\n",
    "            key=key.normalise('dmodel'),\n",
    "        )\n",
    "        .softmax()\n",
    "        (lambda x: x * t.arange(1, 60, device=device)[:, None].float())\n",
    "        .by('head')\n",
    "        .plot(facet_col_wrap=4, \n",
    "              title=f\"Attention score from {key.name} matching {query.name}\",\n",
    "              x=move_labels,\n",
    "              y=move_labels,\n",
    "        )\n",
    "    )\n",
    "        "
   ]
  },
  {
   "cell_type": "code",
   "execution_count": null,
   "metadata": {},
   "outputs": [],
   "source": [
    "num_components = 15\n",
    "\n",
    "pos_emb = model.W_pos[1:]\n",
    "pos_emb_normalised = pos_emb / pos_emb.norm(dim=-1, keepdim=True)\n",
    "\n",
    "pca = plot_PCA(pos_emb, name=\"Positional embeddings\")\n",
    "# Show which positions are aligned with the PCA axes (first 4)\n",
    "pca_directions = pca.components_[:num_components]\n",
    "pca_directions = t.tensor(pca_directions, device=device)\n",
    "\n",
    "\n",
    "# Show the dot product between the PCA directions and the positional embeddings\n",
    "imshow(pca_directions @ pos_emb_normalised.T,\n",
    "        xaxis_title=\"Position\",\n",
    "        yaxis_title=\"PCA direction index\",\n",
    "       title=\"Dot product between PCA directions and positional embeddings\")"
   ]
  },
  {
   "attachments": {},
   "cell_type": "markdown",
   "metadata": {},
   "source": [
    "### Other QK circuits"
   ]
  },
  {
   "cell_type": "code",
   "execution_count": null,
   "metadata": {},
   "outputs": [],
   "source": [
    "layer = 7\n",
    "(kuit\n",
    "    .embedding(True)\n",
    "    .qk(layer, key=kuit.embedding(True))\n",
    "    .tokens_to_board('vocab_k', 0)\n",
    "    .print()\n",
    "    .by('vocab_q', 'head')\n",
    "    .plot(title=\"Attention score from each embedding as query, to each embedding as key\",\n",
    "          height=900, facet_col_wrap=4)\n",
    ")\n"
   ]
  },
  {
   "attachments": {},
   "cell_type": "markdown",
   "metadata": {},
   "source": [
    "### Emb - OV - Unemb circuit"
   ]
  },
  {
   "cell_type": "code",
   "execution_count": null,
   "metadata": {},
   "outputs": [],
   "source": [
    "(circuit.Kuit(model)\n",
    "    .embedding()\n",
    "    .normalise('dmodel')\n",
    "    .print()\n",
    "    .ov(0)\n",
    "    .print()\n",
    "    .unembed()\n",
    "    # .unembed_bias()\n",
    "    .by('head')\n",
    "    .plot(facet_col_wrap=4)\n",
    ")"
   ]
  },
  {
   "cell_type": "code",
   "execution_count": null,
   "metadata": {},
   "outputs": [],
   "source": [
    "(Circuit(model)\n",
    "    .unembed_bias()\n",
    "    .tokens_to_board(fill=0)\n",
    "    .plot(title=\"Unembedding bias\"))"
   ]
  },
  {
   "attachments": {},
   "cell_type": "markdown",
   "metadata": {},
   "source": [
    "### Accuracy and failures of the model"
   ]
  },
  {
   "cell_type": "code",
   "execution_count": null,
   "metadata": {},
   "outputs": [],
   "source": [
    "model_metrics = ModelMetricPlotter(val_tokens, model)"
   ]
  },
  {
   "cell_type": "code",
   "execution_count": null,
   "metadata": {},
   "outputs": [],
   "source": [
    "model_metrics.plot_loss_per_move(True)\n",
    "model_metrics.plot_loss_per_move()\n",
    "model_metrics.plot_whole_board_accuracy()"
   ]
  },
  {
   "cell_type": "code",
   "execution_count": null,
   "metadata": {},
   "outputs": [],
   "source": [
    "val_valid.shape"
   ]
  },
  {
   "cell_type": "code",
   "execution_count": null,
   "metadata": {},
   "outputs": [],
   "source": [
    "def explain_game(\n",
    "    tokens: Int[Tensor, 'move'],\n",
    "    model: HookedTransformer,\n",
    "    move: int = None,\n",
    "    # Extra args\n",
    "    extra_boards: Optional[Dict[str, Tensor]] = None,\n",
    ") -> None:\n",
    "    if isinstance(tokens, list):\n",
    "        tokens = t.tensor(tokens, dtype=t.long)\n",
    "    if move is None:\n",
    "        move = tokens.shape[0] - 1\n",
    "    move = move % tokens.shape[0]\n",
    "    if extra_boards is None:\n",
    "        extra_boards = {}\n",
    "        \n",
    "    tokens = tokens[None, :move+1].to(model.cfg.device)\n",
    "    board_indices = tokens_to_board(tokens)\n",
    "\n",
    "    logits = model(tokens)\n",
    "\n",
    "    scale = logits.abs().max().item() * 0.5\n",
    "    predictions = logits_to_board(logits, 'log_prob')\n",
    "    state = move_sequence_to_state(board_indices, 'mine-their') * scale\n",
    "    valid = move_sequence_to_state(board_indices, mode=\"valid\") * scale\n",
    "\n",
    "    # Scale extra boards if they are boolean\n",
    "    for k, v in extra_boards.items():\n",
    "        if v.dtype == t.bool:\n",
    "            extra_boards[k] = v * scale\n",
    "\n",
    "    # Plotting\n",
    "    boards = t.stack([\n",
    "        state[0, -1],\n",
    "        valid[0, -1],\n",
    "        predictions[0, -1],\n",
    "        *extra_boards.values(),\n",
    "    ], dim=0)\n",
    "    plot_square_as_board(\n",
    "        boards,\n",
    "        facet_col=0,\n",
    "        facet_col_wrap=3 if len(boards) != 4 else 2,\n",
    "        facet_labels=[\"State before\", \"Valid moves\", \"Model logits\", *extra_boards.keys()],\n",
    "        title=f\"Game after {to_board_label(board_indices[0, -1].item())} - blue to play - move {move}\",\n",
    "    )\n",
    "\n",
    "\n",
    "explain_game([20, 19], model)\n",
    "explain_game(val_tokens[3], model, 0)"
   ]
  },
  {
   "cell_type": "code",
   "execution_count": null,
   "metadata": {},
   "outputs": [],
   "source": [
    "@t.inference_mode()\n",
    "def find_fail_datapoints(\n",
    "    model: HookedTransformer,\n",
    "    tokens: Int[Tensor, 'game move'],\n",
    "    threshold: float = 3,\n",
    "    nb_examples: int = 10,\n",
    "    biggest_mistakes: bool = True,\n",
    ") -> None:\n",
    "    \"\"\"\n",
    "    Find datapoints where the model fails to predict the valid moves.\n",
    "\n",
    "    Plots the board for each datapoint where the model fails to predict the valid moves.\n",
    "    \"\"\"\n",
    "\n",
    "    # Get the probabilities for each cell\n",
    "    tokens = tokens[:, :59].to(model.cfg.device)\n",
    "    logits = model(tokens[:, :59])\n",
    "    probabilities = logits_to_board(logits, 'prob')  # [game, move, row, col]\n",
    "\n",
    "    # Compute the number of valid moves\n",
    "    valid_moves = move_sequence_to_state(tokens_to_board(tokens), mode=\"valid\")[:, :59]\n",
    "    nb_valid_moves = valid_moves.sum(dim=(-1, -2), keepdim=True)  # [game, move, 1, 1]\n",
    "\n",
    "    # Find which moves are considered correct\n",
    "    if biggest_mistakes:\n",
    "        error = t.zeros_like(probabilities)\n",
    "        error[valid_moves] = 1 - (probabilities * nb_valid_moves)[valid_moves]\n",
    "        error[~valid_moves] = (probabilities * nb_valid_moves)[~valid_moves]\n",
    "        error = error.max(dim=-1).values.max(dim=-1).values.flatten()\n",
    "        # plot histogram of errors\n",
    "        display(px.histogram(error.flatten()))\n",
    "        biggest_mistakes_flat = error.topk(nb_examples).indices\n",
    "        incorrect_indices = t.stack([biggest_mistakes_flat // 59, biggest_mistakes_flat % 59],\n",
    "                                    dim=-1)\n",
    "    else:\n",
    "\n",
    "        predictions = probabilities > (1 / (threshold * nb_valid_moves))\n",
    "        correct = predictions == valid_moves\n",
    "        correct_boards = (predictions == valid_moves).all(-1).all(-1)\n",
    "\n",
    "        # Find the indices of the incorrect moves\n",
    "        incorrect_indices = t.nonzero(~correct_boards, as_tuple=False)\n",
    "        # Sample from the incorrect indices\n",
    "        incorrect_indices = incorrect_indices[t.randperm(len(incorrect_indices))]\n",
    "        incorrect_indices = incorrect_indices[:nb_examples]\n",
    "\n",
    "    # Plot the incorrect moves\n",
    "    for game, move in incorrect_indices:\n",
    "        explain_game(tokens[game],\n",
    "                     model,\n",
    "                     move,\n",
    "                     extra_boards={\n",
    "                         \"Model's mistakes\": ~correct[game, move],\n",
    "                     })\n",
    "        # plot_board(TOKENS_TO_BOARD[tokens[game]])\n",
    "\n",
    "\n",
    "find_fail_datapoints(\n",
    "    model,\n",
    "    val_tokens[:40, :30],\n",
    "    threshold=2,\n",
    "    nb_examples=10,\n",
    "    biggest_mistakes=False,\n",
    ")\n"
   ]
  },
  {
   "attachments": {},
   "cell_type": "markdown",
   "metadata": {},
   "source": [
    "## Attention"
   ]
  },
  {
   "cell_type": "code",
   "execution_count": null,
   "metadata": {},
   "outputs": [],
   "source": [
    "def plot_average_attention(model: HookedTransformer, tokens: Int[Tensor, \"game move\"],\n",
    "                           *layers: int):\n",
    "\n",
    "    move_nb = min(tokens.shape[1], 59)\n",
    "    total_attention = t.zeros(model.cfg.n_layers, model.cfg.n_heads, move_nb, move_nb, device=model.cfg.device)\n",
    "    def hook(activation: Float[Tensor, \"game head query key\"], hook: HookPoint):\n",
    "        total_attention[hook.layer()] += activation.mean(0)\n",
    "\n",
    "    model.run_with_hooks(tokens[:, :59], fwd_hooks=[\n",
    "        (lambda n: 'pattern' in n, hook)\n",
    "    ])\n",
    "\n",
    "    # Plot all the attention patterns\n",
    "    if not layers:\n",
    "        layers = list(range(model.cfg.n_layers))\n",
    "    else:\n",
    "        layers = list(layers)\n",
    "    \n",
    "    plots = einops.rearrange(total_attention[layers], \"layer head row col -> (layer head) row col\")\n",
    "    labels = [f\"Head {head} Layer {layer}\" for layer in layers for head in range(model.cfg.n_heads)]\n",
    "    tokens_labels = [f\" {i}\" for i in range(move_nb)]\n",
    "    display(circuitsvis.attention.attention_patterns(tokens_labels, plots, labels))"
   ]
  },
  {
   "cell_type": "code",
   "execution_count": null,
   "metadata": {},
   "outputs": [],
   "source": [
    "plot_average_attention(model, val_tokens[:1], 0)"
   ]
  },
  {
   "cell_type": "code",
   "execution_count": null,
   "metadata": {},
   "outputs": [],
   "source": [
    "def plot_head_attention(model: HookedTransformer, tokens: Int[Tensor, \"game move\"], \n",
    "                        layer: int,\n",
    "                        head: int):\n",
    "    move_nb = min(tokens.shape[1], 59)\n",
    "    attention = t.zeros(tokens.shape[0], move_nb, move_nb, device=model.cfg.device)\n",
    "    def hook(activation: Float[Tensor, \"game head query key\"], hook: HookPoint):\n",
    "        attention[...] += activation[:, head]\n",
    "\n",
    "    model.run_with_hooks(tokens[:, :59], fwd_hooks=[\n",
    "        (utils.get_act_name('pattern', layer), hook)\n",
    "    ])\n",
    "\n",
    "    # Plot the attention patterns\n",
    "    tokens_labels = [f\" {i}\" for i in range(move_nb)]\n",
    "    return circuitsvis.attention.attention_patterns(\n",
    "        tokens_labels,\n",
    "        attention,\n",
    "        # [f\"Head {head} Layer {layer} - game {i}\" for i in range(tokens.shape[0])],\n",
    "    )\n",
    "\n",
    "plot_head_attention(model, val_tokens[:12], 0, 4)"
   ]
  },
  {
   "cell_type": "code",
   "execution_count": null,
   "metadata": {},
   "outputs": [],
   "source": [
    "layer = 1\n",
    "name = utils.get_act_name('pattern', layer)\n",
    "_, cache = model.run_with_cache(val_tokens[:1, :59], names_filter=lambda n: n == name)\n",
    "pattern = cache[name][0]\n",
    "\n",
    "(circuit.Kuit(model, pattern, ['head', 'pos_q', 'pos_k'])\n",
    "pattern.shape\n"
   ]
  },
  {
   "attachments": {},
   "cell_type": "markdown",
   "metadata": {},
   "source": [
    "## Ablation Study"
   ]
  },
  {
   "cell_type": "code",
   "execution_count": null,
   "metadata": {},
   "outputs": [],
   "source": [
    "individual_heads = False\n",
    "\n",
    "n_games = 50\n",
    "tokens = full_games_tokens[-n_games:].to(device)\n",
    "board_index = full_games_board_index[-n_games:].to(device)\n",
    "get_metrics = lambda model: get_loss(model, tokens, board_index, 5, -5).to_tensor()\n",
    "zero_ablation_metrics = zero_ablation(model, get_metrics, individual_heads).cpu()\n",
    "base_metrics = get_metrics(model)"
   ]
  },
  {
   "cell_type": "code",
   "execution_count": null,
   "metadata": {},
   "outputs": [],
   "source": [
    "# Plotting the results\n",
    "x_labels = [f\"Head {i}\" for i in range(model.cfg.n_heads)] + [\"All Heads\", \"MLP\"]\n",
    "y_labels = [f\"Layer {i}\" for i in range(model.cfg.n_layers)]\n",
    "if not individual_heads:\n",
    "    x_labels = x_labels[-2:]\n",
    "\n",
    "imshow(\n",
    "    zero_ablation_metrics[:3] - base_metrics[:3, None, None],\n",
    "    title=\"Metric increase after zeroing each component\",\n",
    "    x=x_labels,\n",
    "    y=y_labels,\n",
    "    facet_col=0,\n",
    "    facet_labels=[\"Loss\", \"Cell accuracy\", \"Board accuracy\"],\n",
    ")"
   ]
  },
  {
   "cell_type": "code",
   "execution_count": null,
   "metadata": {},
   "outputs": [],
   "source": [
    "# Abblate all attention after the layer `n`\n",
    "\n",
    "def filter(name: str, start_layer: int = 0):\n",
    "    if not name.startswith(\"blocks.\"):\n",
    "        # 'hook_embed' or 'hook_pos_embed' or 'ln_final.hook_scale' or 'ln_final.hook_normalized'\n",
    "        return False\n",
    "\n",
    "    layer = int(name.split(\".\")[1])\n",
    "\n",
    "    return layer >= start_layer and \"attn_out\" in name\n",
    "\n",
    "metrics_per_layer = []\n",
    "for start_layer in range(model.cfg.n_layers):\n",
    "    with model.hooks(fwd_hooks=[(partial(filter, start_layer=start_layer),\n",
    "                                    zero_ablation_hook)]):\n",
    "        metrics_per_layer.append(get_metrics(model))"
   ]
  },
  {
   "cell_type": "code",
   "execution_count": null,
   "metadata": {},
   "outputs": [],
   "source": [
    "# %% Plot\n",
    "lines = t.stack(metrics_per_layer, dim=1).cpu()\n",
    "line(\n",
    "    lines[:3],\n",
    "    x=[f\"≥ {i}\" for i in range(model.cfg.n_layers)],\n",
    "    facet_col=0,\n",
    "    #  facet_col_wrap=3,\n",
    "    facet_labels=[\n",
    "        \"Loss\",\n",
    "        \"Cell accuracy\",\n",
    "        \"Board accuracy\",\n",
    "    ],  # 'False Positive', 'False Negative', 'True Positive', 'True Negative'],\n",
    "    title=\"Metrics after zeroing all attention heads above a layer\",\n",
    ")"
   ]
  },
  {
   "attachments": {},
   "cell_type": "markdown",
   "metadata": {},
   "source": [
    "## Exploration of the probe"
   ]
  },
  {
   "cell_type": "code",
   "execution_count": null,
   "metadata": {},
   "outputs": [],
   "source": [
    "neel_probe = get_neels_probe(False, device)\n",
    "\n",
    "blank_probe, my_probe, their_probe = neel_probe.unbind(dim=-1)\n",
    "blank_direction = blank_probe - (their_probe + my_probe) / 2\n",
    "my_direction = my_probe - their_probe"
   ]
  },
  {
   "attachments": {},
   "cell_type": "markdown",
   "metadata": {},
   "source": [
    "### Accuracy and cosine similarity"
   ]
  },
  {
   "cell_type": "code",
   "execution_count": null,
   "metadata": {},
   "outputs": [],
   "source": [
    "plot_aggregate_metric(\n",
    "    val_tokens,\n",
    "    model,\n",
    "    neel_probe,\n",
    "    # per_option=True,\n",
    "    # per_move=\"cell_accuracy\",\n",
    "    # per_move=\"board_accuracy\",\n",
    "    name=\"Neel's probe\",\n",
    "    # prediction=\"softmax\",\n",
    "    # prediction='logprob',\n",
    ");"
   ]
  },
  {
   "cell_type": "code",
   "execution_count": null,
   "metadata": {},
   "outputs": [],
   "source": [
    "for probe, name in zip([blank_probe, their_probe, my_probe], [\"blank\", \"their\", \"my\"]):\n",
    "    probe = einops.rearrange(probe, \"d_model rows cols -> (rows cols) d_model\")\n",
    "    plot_similarities(probe,\n",
    "                      title=f\"Similarity between {name} vectors\",\n",
    "                      x=full_board_labels,\n",
    "                      y=full_board_labels)"
   ]
  },
  {
   "cell_type": "code",
   "execution_count": null,
   "metadata": {},
   "outputs": [],
   "source": [
    "# %% Similarity between mine and theirs (for each square)\n",
    "plot_similarities_2(my_probe, their_probe)"
   ]
  },
  {
   "cell_type": "code",
   "execution_count": null,
   "metadata": {},
   "outputs": [],
   "source": [
    "probes = [get_probe(i, device=device) for i in range(1)]\n",
    "\n",
    "for probe, name in zip(probes, [\"new probe\", \"orthogonal probe\", \"orthogonal probe 2\"]):\n",
    "    plot_agreggate_metric(\n",
    "        model,\n",
    "        probe.to(device),\n",
    "        full_games_tokens[-100:],\n",
    "        full_games_board_index[-100:],\n",
    "        per_option=True,\n",
    "        name=name,\n",
    "    )\n"
   ]
  },
  {
   "attachments": {},
   "cell_type": "markdown",
   "metadata": {},
   "source": [
    "Similarities between the blank probe and the token embeddings"
   ]
  },
  {
   "cell_type": "code",
   "execution_count": null,
   "metadata": {},
   "outputs": [],
   "source": [
    "token_embs = model.W_E[1:]\n",
    "token_embs_64 = t.zeros((64, token_embs.shape[1]), device=token_embs.device)\n",
    "token_embs_64[TOKENS_TO_BOARD] = token_embs\n",
    "print(token_embs.shape)\n",
    "token_embs_64 = einops.rearrange(token_embs_64, \"(rows cols) d_model -> d_model rows cols\", rows=8)\n",
    "\n",
    "plot_similarities_2(\n",
    "    neel_probe[..., 0],\n",
    "    token_embs_64,\n",
    "    name=\"Blank probe and token embeddings\",\n",
    ")"
   ]
  },
  {
   "attachments": {},
   "cell_type": "markdown",
   "metadata": {},
   "source": [
    "Compute and show probe vector norms"
   ]
  },
  {
   "cell_type": "code",
   "execution_count": null,
   "metadata": {},
   "outputs": [],
   "source": [
    "probe_norm = neel_probe.norm(dim=0)\n",
    "px.histogram(probe_norm.cpu().flatten(), title=\"Probe vector norms\", labels={\"value\": \"norm\"})"
   ]
  },
  {
   "attachments": {},
   "cell_type": "markdown",
   "metadata": {},
   "source": [
    "### Using UMAP"
   ]
  },
  {
   "cell_type": "code",
   "execution_count": null,
   "metadata": {},
   "outputs": [],
   "source": [
    "\n",
    "import umap\n",
    "import umap.plot\n",
    "import pandas as pd\n",
    "\n",
    "vectors = einops.rearrange(linear_probe,\n",
    "                            \"d_model rows cols options -> (options rows cols) d_model\")\n",
    "\n",
    "mapper = umap.UMAP(metric=\"cosine\").fit(vectors.cpu().numpy())\n",
    "\n",
    "labels = [probe_name for probe_name in [\"blank\", \"their\", \"my\"] for _ in full_board_labels]\n",
    "hover_data = pd.DataFrame({\n",
    "    \"square\": full_board_labels * 3,\n",
    "    \"probe\": labels,\n",
    "})\n",
    "\n",
    "umap.plot.show_interactive(\n",
    "    umap.plot.interactive(mapper, labels=labels, hover_data=hover_data, theme=\"inferno\"))\n"
   ]
  },
  {
   "attachments": {},
   "cell_type": "markdown",
   "metadata": {},
   "source": [
    "### Using PCA"
   ]
  },
  {
   "cell_type": "code",
   "execution_count": null,
   "metadata": {},
   "outputs": [],
   "source": [
    "linear_probe = get_probe(device)\n",
    "\n",
    "# %% Run PCA on the vectors of the probe\n",
    "vectors = einops.rearrange(linear_probe, \"d_model rows cols options -> (options rows cols) d_model\")\n",
    "plot_PCA(vectors, \"the probe vectors\")\n",
    "# %% The same be per option\n",
    "for i in range(3):\n",
    "    plot_PCA(\n",
    "        linear_probe[..., i],\n",
    "        f\"the probe vectors for option {i}\",\n",
    "        flip_dim_order=True,\n",
    "        absolute=True,\n",
    "    )\n",
    "\n",
    "# %% Normalise the probe then run PCA\n",
    "normalised_probe = linear_probe / linear_probe.norm(dim=-1, keepdim=True)\n",
    "plot_PCA(normalised_probe, \"the normalised probe vectors\", flip_dim_order=True)\n",
    "\n",
    "# %% Same PCA but with the unembeddings\n",
    "plot_PCA(model.W_U, \"the unembeddings\")\n",
    "\n",
    "# %%\n",
    "plot_PCA(model.W_pos, \"the embeddings\")\n",
    "# %%\n",
    "all_vectors = [\n",
    "    model.W_U.T,\n",
    "    model.W_E,\n",
    "    model.W_pos,\n",
    "    vectors,\n",
    "]\n",
    "all_vectors = [(v - v.mean(dim=0)) / v.std(dim=0) for v in all_vectors]\n",
    "\n",
    "plot_PCA(t.cat(all_vectors, dim=0), \"the embeddings and unembeddings\")\n",
    "# %%\n",
    "plot_PCA(t.cat([my_direction, blank_direction], dim=1).flatten(1).T, \"the direction vectors\")\n",
    "# %%\n",
    "plot_PCA(my_direction.flatten(1).T, \"the direction vectors\")\n",
    "# %%\n",
    "plot_PCA(blank_direction.flatten(1).T, \"the direction vectors\")\n"
   ]
  },
  {
   "attachments": {},
   "cell_type": "markdown",
   "metadata": {},
   "source": [
    "## Training probes"
   ]
  },
  {
   "cell_type": "code",
   "execution_count": null,
   "metadata": {},
   "outputs": [],
   "source": [
    "import pytorch_lightning as pl\n",
    "from pytorch_lightning.loggers import WandbLogger\n",
    "from probes import ProbeTrainingArgs, LitLinearProbe, PROBE_DIR"
   ]
  },
  {
   "cell_type": "code",
   "execution_count": null,
   "metadata": {},
   "outputs": [],
   "source": [
    "if \"make new training data\" and False:\n",
    "    games_tokens, games_valid_moves = make_training_data()\n",
    "else:\n",
    "    games_tokens, games_valid_moves = get_training_data()"
   ]
  },
  {
   "cell_type": "code",
   "execution_count": null,
   "metadata": {},
   "outputs": [],
   "source": [
    "games_board_index = tokens_to_board(games_tokens)\n",
    "games_states = move_sequence_to_state(games_board_index, mode=\"mine-their\")"
   ]
  },
  {
   "cell_type": "code",
   "execution_count": null,
   "metadata": {},
   "outputs": [],
   "source": [
    "valid_tokens, _ = generate_training_data(1_000, seed=69)\n",
    "valid_states = move_sequence_to_state(tokens_to_board(valid_tokens), mode=\"mine-their\")"
   ]
  },
  {
   "attachments": {},
   "cell_type": "markdown",
   "metadata": {},
   "source": [
    "### Compute stats on the dataset"
   ]
  },
  {
   "cell_type": "code",
   "execution_count": 27,
   "metadata": {
    "ExecuteTime": {
     "end_time": "2023-06-18T00:06:16.621301685Z",
     "start_time": "2023-06-18T00:06:16.579032569Z"
    }
   },
   "outputs": [
    {
     "name": "stdout",
     "output_type": "stream",
     "text": [
      "Stats shape: torch.Size([4, 60, 8, 8])\n"
     ]
    }
   ],
   "source": [
    "if not STATS_PATH.exists():\n",
    "    stats = compute_stats(games_states, games_valid_moves)\n",
    "else:\n",
    "    stats = t.load(STATS_PATH)\n",
    "    print(\"Stats shape:\", stats.shape)\n",
    "\n",
    "stat_names = [\"Empty\", \"My piece\", \"Their piece\", \"Valid move\"]\n"
   ]
  },
  {
   "cell_type": "code",
   "execution_count": null,
   "metadata": {},
   "outputs": [],
   "source": [
    "plot_square_as_board(\n",
    "    stats.mean(1),\n",
    "    title=\"Average frequency of each cell being ...\",\n",
    "    facet_col=0,\n",
    "    facet_labels=stat_names,\n",
    ")\n",
    "\n"
   ]
  },
  {
   "cell_type": "code",
   "execution_count": null,
   "metadata": {},
   "outputs": [],
   "source": [
    "# Plot per move\n",
    "lines = stats[1:].mean((2, 3)).T\n",
    "\n",
    "df = pd.DataFrame(lines.tolist(), columns=stat_names[1:])\n",
    "df[\"Move\"] = df.index\n",
    "# Add propotion of my pieces\n",
    "df[\"Proportion of my pieces\"] = df[\"My piece\"] / (df[\"My piece\"] + df[\"Their piece\"])\n",
    "df = df.melt(id_vars=[\"Move\"], var_name=\"Cell type\", value_name=\"Frequency\")\n",
    "px.line(\n",
    "    df,\n",
    "    x=\"Move\",\n",
    "    y=\"Frequency\",\n",
    "    color=\"Cell type\",\n",
    "    title=\"Frequency of each cell being ...\",\n",
    "    labels={\n",
    "        \"value\": \"Frequency\",\n",
    "        \"index\": \"Move\"\n",
    "    },\n",
    "    # legend=stat_names,\n",
    ")"
   ]
  },
  {
   "cell_type": "code",
   "execution_count": null,
   "metadata": {},
   "outputs": [],
   "source": [
    "# %% Plot stats per cell and move\n",
    "if 0:\n",
    "    moves_to_show = [0, 5, 10, 20, 30, 40, 50, 55]\n",
    "    x = einops.rearrange(stats[:, moves_to_show], \"option m r c -> (m option) r c\")\n",
    "    labels = [f\"{name} (move {move})\" for move in moves_to_show for name in stat_names]\n",
    "\n",
    "    plot_square_as_board(\n",
    "        x,\n",
    "        facet_col=0,\n",
    "        facet_col_wrap=4,\n",
    "        facet_labels=labels,\n",
    "        title=\"Average frequency of each cell being ...\",\n",
    "        height=3000,\n",
    "    )\n"
   ]
  },
  {
   "attachments": {},
   "cell_type": "markdown",
   "metadata": {},
   "source": [
    "### Actual Training"
   ]
  },
  {
   "cell_type": "code",
   "execution_count": null,
   "metadata": {},
   "outputs": [],
   "source": [
    "import dataclasses\n",
    "\n",
    "\n",
    "def train_probe(args: ProbeTrainingArgs, *orthogonal):\n",
    "    if args.probe_name == ProbeTrainingArgs.probe_name:\n",
    "        args.probe_name = f'probe-{len(orthogonal)}'\n",
    "        if args.black_and_white:\n",
    "            args.probe_name += '-bw'\n",
    "        if args.correct_for_dataset_bias:\n",
    "            args.probe_name += '-unbiased'\n",
    "\n",
    "    lit_ortho_probe = LitLinearProbe(model, args, *orthogonal)\n",
    "\n",
    "    wandb.finish()\n",
    "    logger = WandbLogger(save_dir=os.getcwd() + \"/logs\", project='orthogonal-probes')\n",
    "    config = dataclasses.asdict(args)\n",
    "    del config['train_tokens']\n",
    "    del config['valid_tokens']\n",
    "    logger.log_hyperparams(config)\n",
    "    trainer = pl.Trainer(\n",
    "        max_epochs=args.max_epochs,\n",
    "        logger=logger,\n",
    "        log_every_n_steps=5,\n",
    "        val_check_interval=100,\n",
    "        check_val_every_n_epoch=None,\n",
    "    )\n",
    "\n",
    "    trainer.fit(model=lit_ortho_probe)\n",
    "    probe = lit_ortho_probe.linear_probe\n",
    "    \n",
    "    plot_aggregate_metric(\n",
    "        valid_tokens,\n",
    "        model,\n",
    "        probe,\n",
    "        # per_option=True,\n",
    "        per_move=\"board_accuracy\",\n",
    "    )\n",
    "\n",
    "    wandb.finish()\n",
    "\n",
    "    path = PROBE_DIR / f\"{args.probe_name}.pt\"\n",
    "    if not path.exists():\n",
    "        t.save(lit_ortho_probe.linear_probe, path)\n",
    "        print(f\"Saved probe to {path.resolve()}\")\n",
    "    else:\n",
    "        print(f\"Warning: {path.resolve()} already exists. Not saving the probe.\")\n",
    "\n",
    "    return probe"
   ]
  },
  {
   "cell_type": "code",
   "execution_count": null,
   "metadata": {},
   "outputs": [],
   "source": [
    "probe = get_probe(0, device=device, base_name='probe-0.9')"
   ]
  },
  {
   "cell_type": "code",
   "execution_count": null,
   "metadata": {},
   "outputs": [],
   "source": [
    "probe2 = train_probe(ProbeTrainingArgs(games_tokens, val_tokens, lr=0.001, batch_size=600, max_epochs=12),\n",
    "                    probe,)"
   ]
  },
  {
   "cell_type": "markdown",
   "source": [
    "### Training with sweeps"
   ],
   "metadata": {
    "collapsed": false
   }
  },
  {
   "cell_type": "code",
   "execution_count": null,
   "outputs": [],
   "source": [
    "# Train with sweeps\n",
    "import yaml\n",
    "\n",
    "\n",
    "config = yaml.safe_load(Path('sweep.yml').read_text())\n",
    "rprint(config)\n",
    "\n",
    "sweep_id = wandb.sweep(sweep=config, project='cell-probes-sweep')\n"
   ],
   "metadata": {
    "collapsed": false
   }
  },
  {
   "cell_type": "code",
   "execution_count": null,
   "outputs": [],
   "source": [
    "def run():\n",
    "    with wandb.init() as run:\n",
    "        config = run.config\n",
    "        probe_config = ProbeConfig(\n",
    "            cell=\"C4\",\n",
    "            trained_on_move=40,\n",
    "            num_valid_games=1000,\n",
    "            validate_every=20,\n",
    "            **config)\n",
    "        probe = Probe(model, probe_config)\n",
    "        probe.train(games_tokens, val_tokens)\n",
    "\n",
    "wandb.agent(sweep_id, function=run, count=1)"
   ],
   "metadata": {
    "collapsed": false
   }
  },
  {
   "attachments": {},
   "cell_type": "markdown",
   "metadata": {},
   "source": [
    "### Probe per move/cell"
   ]
  },
  {
   "cell_type": "code",
   "execution_count": 4,
   "metadata": {
    "ExecuteTime": {
     "end_time": "2023-06-17T23:53:55.454074220Z",
     "start_time": "2023-06-17T23:53:50.596499579Z"
    }
   },
   "outputs": [
    {
     "data": {
      "text/plain": "  0%|          | 0/1000 [00:00<?, ?it/s]",
      "application/vnd.jupyter.widget-view+json": {
       "version_major": 2,
       "version_minor": 0,
       "model_id": "3d1294b5bfdc49b89472771c7585c94a"
      }
     },
     "metadata": {},
     "output_type": "display_data"
    }
   ],
   "source": [
    "val_tokens, _ = generate_training_data(1000, 69)\n",
    "train_tokens, _ = get_training_data()"
   ]
  },
  {
   "cell_type": "code",
   "execution_count": null,
   "outputs": [],
   "source": [
    "import probes\n",
    "from importlib import reload\n",
    "reload(probes)\n",
    "from probes import OthelloProbe\n",
    "\n",
    "test_config = OthelloProbe.Config(\n",
    "    cell=\"D3\",\n",
    "    num_probes=12,\n",
    "    layer=3,\n",
    "    options=2,\n",
    "    validate_every=20,\n",
    "    use_wandb=False,\n",
    "    num_train_games=1000,\n",
    "    num_val_games=100,\n",
    ")\n",
    "rprint(test_config)\n",
    "probe = OthelloProbe(model, test_config)\n",
    "train_data = probe.dataloader_activations(train_tokens[:, :test_config.num_probes])\n",
    "val_data = probe.dataloader_activations(val_tokens[:, :test_config.num_probes], for_validation=True)\n",
    "\n"
   ],
   "metadata": {
    "collapsed": false
   }
  },
  {
   "cell_type": "code",
   "execution_count": null,
   "metadata": {},
   "outputs": [],
   "source": [
    "from probes import OthelloProbe\n",
    "TRAIN = True\n",
    "probes = []\n",
    "# for layer in range(8):\n",
    "for layer in [3]:\n",
    "    probe_config = OthelloProbe.Config(\n",
    "        cell=\"D3\",\n",
    "        num_probes=12,\n",
    "        layer=layer,\n",
    "        options=2,\n",
    "        device=device,\n",
    "        epochs=3,\n",
    "        lr=0.002,\n",
    "        # wd=0.00001,\n",
    "        batch_size=1000,\n",
    "        num_train_games=100_000,\n",
    "        num_val_games=1_000,\n",
    "        validate_every=20,\n",
    "        use_wandb=True,\n",
    "    )\n",
    "    if TRAIN:\n",
    "        probe = OthelloProbe(model, probe_config)\n",
    "\n",
    "        with wandb.init(project='position-dependent-probes',\n",
    "                        config=probe_config,\n",
    "                        mode='online' if probe_config.use_wandb else 'disabled',\n",
    "                        group=f'{probe_config.cell}-{probe_config.trained_on}'):\n",
    "\n",
    "            probe.train_loop(\n",
    "                # train_data,\n",
    "                # val_data,\n",
    "                probe.dataloader_activations(train_tokens[:, :probe_config.num_probes]),\n",
    "                probe.dataloader_activations(val_tokens[:, :probe_config.num_probes], 1000, for_validation=True),\n",
    "            )\n",
    "        # probe.save()\n",
    "    else:\n",
    "        probe = probe_config.load(model)\n",
    "    probes.append(probe)"
   ]
  },
  {
   "attachments": {},
   "cell_type": "markdown",
   "metadata": {},
   "source": [
    "For a given cell and move number,\n",
    "we have a probe that tries to predict the state of the cell at every move (after every layer)"
   ]
  },
  {
   "cell_type": "code",
   "execution_count": 21,
   "metadata": {
    "ExecuteTime": {
     "end_time": "2023-06-18T00:05:31.335709879Z",
     "start_time": "2023-06-18T00:05:30.752765134Z"
    }
   },
   "outputs": [],
   "source": [
    "val_data = probes[0].dataloader(val_tokens[:, :probes[0].config.num_probes], for_validation=True)"
   ]
  },
  {
   "cell_type": "code",
   "execution_count": 30,
   "metadata": {
    "ExecuteTime": {
     "end_time": "2023-06-18T00:08:10.612430921Z",
     "start_time": "2023-06-18T00:08:10.425687627Z"
    }
   },
   "outputs": [
    {
     "data": {
      "text/plain": "  0%|          | 0/1 [00:00<?, ?it/s]",
      "application/vnd.jupyter.widget-view+json": {
       "version_major": 2,
       "version_minor": 0,
       "model_id": "9aa5266db1b94f73ad6d37d4998eaff5"
      }
     },
     "metadata": {},
     "output_type": "display_data"
    }
   ],
   "source": [
    "losses = [\n",
    "    probe.validate(val_data, use_wandb=False)\n",
    "    for probe in tqdm(probes)\n",
    "]"
   ]
  },
  {
   "cell_type": "code",
   "execution_count": 130,
   "outputs": [
    {
     "name": "stdout",
     "output_type": "stream",
     "text": [
      "Warning: /tmp/pycharm_project_802/probes/probe-D3-L0resid_post-M40.pt already exists. Not saving the probe.\n",
      "Warning: /tmp/pycharm_project_802/probes/probe-D3-L1resid_post-M40.pt already exists. Not saving the probe.\n",
      "Warning: /tmp/pycharm_project_802/probes/probe-D3-L2resid_post-M40.pt already exists. Not saving the probe.\n",
      "Warning: /tmp/pycharm_project_802/probes/probe-D3-L3resid_post-M40.pt already exists. Not saving the probe.\n",
      "Warning: /tmp/pycharm_project_802/probes/probe-D3-L4resid_post-M40.pt already exists. Not saving the probe.\n",
      "Warning: /tmp/pycharm_project_802/probes/probe-D3-L5resid_post-M40.pt already exists. Not saving the probe.\n",
      "Warning: /tmp/pycharm_project_802/probes/probe-D3-L6resid_post-M40.pt already exists. Not saving the probe.\n",
      "Warning: /tmp/pycharm_project_802/probes/probe-D3-L7resid_post-M40.pt already exists. Not saving the probe.\n"
     ]
    }
   ],
   "source": [
    "for probe in probes:\n",
    "    probe.save()"
   ],
   "metadata": {
    "collapsed": false,
    "ExecuteTime": {
     "end_time": "2023-06-17T17:26:44.033649710Z",
     "start_time": "2023-06-17T17:26:43.989205361Z"
    }
   }
  },
  {
   "cell_type": "code",
   "execution_count": 36,
   "metadata": {
    "ExecuteTime": {
     "end_time": "2023-06-18T00:13:22.768323605Z",
     "start_time": "2023-06-18T00:13:22.561035811Z"
    }
   },
   "outputs": [
    {
     "data": {
      "application/vnd.plotly.v1+json": {
       "data": [
        {
         "coloraxis": "coloraxis",
         "name": "0",
         "z": [
          [
           0.367000013589859,
           0.16300010681152344,
           0.156000018119812,
           0.08099991083145142,
           0.09200000762939453,
           0.12400001287460327,
           0.14200007915496826,
           0.18599998950958252,
           0.2180001139640808,
           0.3889999985694885,
           0.4299998879432678,
           0.421999990940094
          ]
         ],
         "type": "heatmap",
         "xaxis": "x",
         "yaxis": "y",
         "hovertemplate": "x: %{x}<br>y: %{y}<br>color: %{z}<extra></extra>"
        }
       ],
       "layout": {
        "template": {
         "data": {
          "histogram2dcontour": [
           {
            "type": "histogram2dcontour",
            "colorbar": {
             "outlinewidth": 0,
             "ticks": ""
            },
            "colorscale": [
             [
              0.0,
              "#0d0887"
             ],
             [
              0.1111111111111111,
              "#46039f"
             ],
             [
              0.2222222222222222,
              "#7201a8"
             ],
             [
              0.3333333333333333,
              "#9c179e"
             ],
             [
              0.4444444444444444,
              "#bd3786"
             ],
             [
              0.5555555555555556,
              "#d8576b"
             ],
             [
              0.6666666666666666,
              "#ed7953"
             ],
             [
              0.7777777777777778,
              "#fb9f3a"
             ],
             [
              0.8888888888888888,
              "#fdca26"
             ],
             [
              1.0,
              "#f0f921"
             ]
            ]
           }
          ],
          "choropleth": [
           {
            "type": "choropleth",
            "colorbar": {
             "outlinewidth": 0,
             "ticks": ""
            }
           }
          ],
          "histogram2d": [
           {
            "type": "histogram2d",
            "colorbar": {
             "outlinewidth": 0,
             "ticks": ""
            },
            "colorscale": [
             [
              0.0,
              "#0d0887"
             ],
             [
              0.1111111111111111,
              "#46039f"
             ],
             [
              0.2222222222222222,
              "#7201a8"
             ],
             [
              0.3333333333333333,
              "#9c179e"
             ],
             [
              0.4444444444444444,
              "#bd3786"
             ],
             [
              0.5555555555555556,
              "#d8576b"
             ],
             [
              0.6666666666666666,
              "#ed7953"
             ],
             [
              0.7777777777777778,
              "#fb9f3a"
             ],
             [
              0.8888888888888888,
              "#fdca26"
             ],
             [
              1.0,
              "#f0f921"
             ]
            ]
           }
          ],
          "heatmap": [
           {
            "type": "heatmap",
            "colorbar": {
             "outlinewidth": 0,
             "ticks": ""
            },
            "colorscale": [
             [
              0.0,
              "#0d0887"
             ],
             [
              0.1111111111111111,
              "#46039f"
             ],
             [
              0.2222222222222222,
              "#7201a8"
             ],
             [
              0.3333333333333333,
              "#9c179e"
             ],
             [
              0.4444444444444444,
              "#bd3786"
             ],
             [
              0.5555555555555556,
              "#d8576b"
             ],
             [
              0.6666666666666666,
              "#ed7953"
             ],
             [
              0.7777777777777778,
              "#fb9f3a"
             ],
             [
              0.8888888888888888,
              "#fdca26"
             ],
             [
              1.0,
              "#f0f921"
             ]
            ]
           }
          ],
          "heatmapgl": [
           {
            "type": "heatmapgl",
            "colorbar": {
             "outlinewidth": 0,
             "ticks": ""
            },
            "colorscale": [
             [
              0.0,
              "#0d0887"
             ],
             [
              0.1111111111111111,
              "#46039f"
             ],
             [
              0.2222222222222222,
              "#7201a8"
             ],
             [
              0.3333333333333333,
              "#9c179e"
             ],
             [
              0.4444444444444444,
              "#bd3786"
             ],
             [
              0.5555555555555556,
              "#d8576b"
             ],
             [
              0.6666666666666666,
              "#ed7953"
             ],
             [
              0.7777777777777778,
              "#fb9f3a"
             ],
             [
              0.8888888888888888,
              "#fdca26"
             ],
             [
              1.0,
              "#f0f921"
             ]
            ]
           }
          ],
          "contourcarpet": [
           {
            "type": "contourcarpet",
            "colorbar": {
             "outlinewidth": 0,
             "ticks": ""
            }
           }
          ],
          "contour": [
           {
            "type": "contour",
            "colorbar": {
             "outlinewidth": 0,
             "ticks": ""
            },
            "colorscale": [
             [
              0.0,
              "#0d0887"
             ],
             [
              0.1111111111111111,
              "#46039f"
             ],
             [
              0.2222222222222222,
              "#7201a8"
             ],
             [
              0.3333333333333333,
              "#9c179e"
             ],
             [
              0.4444444444444444,
              "#bd3786"
             ],
             [
              0.5555555555555556,
              "#d8576b"
             ],
             [
              0.6666666666666666,
              "#ed7953"
             ],
             [
              0.7777777777777778,
              "#fb9f3a"
             ],
             [
              0.8888888888888888,
              "#fdca26"
             ],
             [
              1.0,
              "#f0f921"
             ]
            ]
           }
          ],
          "surface": [
           {
            "type": "surface",
            "colorbar": {
             "outlinewidth": 0,
             "ticks": ""
            },
            "colorscale": [
             [
              0.0,
              "#0d0887"
             ],
             [
              0.1111111111111111,
              "#46039f"
             ],
             [
              0.2222222222222222,
              "#7201a8"
             ],
             [
              0.3333333333333333,
              "#9c179e"
             ],
             [
              0.4444444444444444,
              "#bd3786"
             ],
             [
              0.5555555555555556,
              "#d8576b"
             ],
             [
              0.6666666666666666,
              "#ed7953"
             ],
             [
              0.7777777777777778,
              "#fb9f3a"
             ],
             [
              0.8888888888888888,
              "#fdca26"
             ],
             [
              1.0,
              "#f0f921"
             ]
            ]
           }
          ],
          "mesh3d": [
           {
            "type": "mesh3d",
            "colorbar": {
             "outlinewidth": 0,
             "ticks": ""
            }
           }
          ],
          "scatter": [
           {
            "fillpattern": {
             "fillmode": "overlay",
             "size": 10,
             "solidity": 0.2
            },
            "type": "scatter"
           }
          ],
          "parcoords": [
           {
            "type": "parcoords",
            "line": {
             "colorbar": {
              "outlinewidth": 0,
              "ticks": ""
             }
            }
           }
          ],
          "scatterpolargl": [
           {
            "type": "scatterpolargl",
            "marker": {
             "colorbar": {
              "outlinewidth": 0,
              "ticks": ""
             }
            }
           }
          ],
          "bar": [
           {
            "error_x": {
             "color": "#2a3f5f"
            },
            "error_y": {
             "color": "#2a3f5f"
            },
            "marker": {
             "line": {
              "color": "#E5ECF6",
              "width": 0.5
             },
             "pattern": {
              "fillmode": "overlay",
              "size": 10,
              "solidity": 0.2
             }
            },
            "type": "bar"
           }
          ],
          "scattergeo": [
           {
            "type": "scattergeo",
            "marker": {
             "colorbar": {
              "outlinewidth": 0,
              "ticks": ""
             }
            }
           }
          ],
          "scatterpolar": [
           {
            "type": "scatterpolar",
            "marker": {
             "colorbar": {
              "outlinewidth": 0,
              "ticks": ""
             }
            }
           }
          ],
          "histogram": [
           {
            "marker": {
             "pattern": {
              "fillmode": "overlay",
              "size": 10,
              "solidity": 0.2
             }
            },
            "type": "histogram"
           }
          ],
          "scattergl": [
           {
            "type": "scattergl",
            "marker": {
             "colorbar": {
              "outlinewidth": 0,
              "ticks": ""
             }
            }
           }
          ],
          "scatter3d": [
           {
            "type": "scatter3d",
            "line": {
             "colorbar": {
              "outlinewidth": 0,
              "ticks": ""
             }
            },
            "marker": {
             "colorbar": {
              "outlinewidth": 0,
              "ticks": ""
             }
            }
           }
          ],
          "scattermapbox": [
           {
            "type": "scattermapbox",
            "marker": {
             "colorbar": {
              "outlinewidth": 0,
              "ticks": ""
             }
            }
           }
          ],
          "scatterternary": [
           {
            "type": "scatterternary",
            "marker": {
             "colorbar": {
              "outlinewidth": 0,
              "ticks": ""
             }
            }
           }
          ],
          "scattercarpet": [
           {
            "type": "scattercarpet",
            "marker": {
             "colorbar": {
              "outlinewidth": 0,
              "ticks": ""
             }
            }
           }
          ],
          "carpet": [
           {
            "aaxis": {
             "endlinecolor": "#2a3f5f",
             "gridcolor": "white",
             "linecolor": "white",
             "minorgridcolor": "white",
             "startlinecolor": "#2a3f5f"
            },
            "baxis": {
             "endlinecolor": "#2a3f5f",
             "gridcolor": "white",
             "linecolor": "white",
             "minorgridcolor": "white",
             "startlinecolor": "#2a3f5f"
            },
            "type": "carpet"
           }
          ],
          "table": [
           {
            "cells": {
             "fill": {
              "color": "#EBF0F8"
             },
             "line": {
              "color": "white"
             }
            },
            "header": {
             "fill": {
              "color": "#C8D4E3"
             },
             "line": {
              "color": "white"
             }
            },
            "type": "table"
           }
          ],
          "barpolar": [
           {
            "marker": {
             "line": {
              "color": "#E5ECF6",
              "width": 0.5
             },
             "pattern": {
              "fillmode": "overlay",
              "size": 10,
              "solidity": 0.2
             }
            },
            "type": "barpolar"
           }
          ],
          "pie": [
           {
            "automargin": true,
            "type": "pie"
           }
          ]
         },
         "layout": {
          "autotypenumbers": "strict",
          "colorway": [
           "#636efa",
           "#EF553B",
           "#00cc96",
           "#ab63fa",
           "#FFA15A",
           "#19d3f3",
           "#FF6692",
           "#B6E880",
           "#FF97FF",
           "#FECB52"
          ],
          "font": {
           "color": "#2a3f5f"
          },
          "hovermode": "closest",
          "hoverlabel": {
           "align": "left"
          },
          "paper_bgcolor": "white",
          "plot_bgcolor": "#E5ECF6",
          "polar": {
           "bgcolor": "#E5ECF6",
           "angularaxis": {
            "gridcolor": "white",
            "linecolor": "white",
            "ticks": ""
           },
           "radialaxis": {
            "gridcolor": "white",
            "linecolor": "white",
            "ticks": ""
           }
          },
          "ternary": {
           "bgcolor": "#E5ECF6",
           "aaxis": {
            "gridcolor": "white",
            "linecolor": "white",
            "ticks": ""
           },
           "baxis": {
            "gridcolor": "white",
            "linecolor": "white",
            "ticks": ""
           },
           "caxis": {
            "gridcolor": "white",
            "linecolor": "white",
            "ticks": ""
           }
          },
          "coloraxis": {
           "colorbar": {
            "outlinewidth": 0,
            "ticks": ""
           }
          },
          "colorscale": {
           "sequential": [
            [
             0.0,
             "#0d0887"
            ],
            [
             0.1111111111111111,
             "#46039f"
            ],
            [
             0.2222222222222222,
             "#7201a8"
            ],
            [
             0.3333333333333333,
             "#9c179e"
            ],
            [
             0.4444444444444444,
             "#bd3786"
            ],
            [
             0.5555555555555556,
             "#d8576b"
            ],
            [
             0.6666666666666666,
             "#ed7953"
            ],
            [
             0.7777777777777778,
             "#fb9f3a"
            ],
            [
             0.8888888888888888,
             "#fdca26"
            ],
            [
             1.0,
             "#f0f921"
            ]
           ],
           "sequentialminus": [
            [
             0.0,
             "#0d0887"
            ],
            [
             0.1111111111111111,
             "#46039f"
            ],
            [
             0.2222222222222222,
             "#7201a8"
            ],
            [
             0.3333333333333333,
             "#9c179e"
            ],
            [
             0.4444444444444444,
             "#bd3786"
            ],
            [
             0.5555555555555556,
             "#d8576b"
            ],
            [
             0.6666666666666666,
             "#ed7953"
            ],
            [
             0.7777777777777778,
             "#fb9f3a"
            ],
            [
             0.8888888888888888,
             "#fdca26"
            ],
            [
             1.0,
             "#f0f921"
            ]
           ],
           "diverging": [
            [
             0,
             "#8e0152"
            ],
            [
             0.1,
             "#c51b7d"
            ],
            [
             0.2,
             "#de77ae"
            ],
            [
             0.3,
             "#f1b6da"
            ],
            [
             0.4,
             "#fde0ef"
            ],
            [
             0.5,
             "#f7f7f7"
            ],
            [
             0.6,
             "#e6f5d0"
            ],
            [
             0.7,
             "#b8e186"
            ],
            [
             0.8,
             "#7fbc41"
            ],
            [
             0.9,
             "#4d9221"
            ],
            [
             1,
             "#276419"
            ]
           ]
          },
          "xaxis": {
           "gridcolor": "white",
           "linecolor": "white",
           "ticks": "",
           "title": {
            "standoff": 15
           },
           "zerolinecolor": "white",
           "automargin": true,
           "zerolinewidth": 2
          },
          "yaxis": {
           "gridcolor": "white",
           "linecolor": "white",
           "ticks": "",
           "title": {
            "standoff": 15
           },
           "zerolinecolor": "white",
           "automargin": true,
           "zerolinewidth": 2
          },
          "scene": {
           "xaxis": {
            "backgroundcolor": "#E5ECF6",
            "gridcolor": "white",
            "linecolor": "white",
            "showbackground": true,
            "ticks": "",
            "zerolinecolor": "white",
            "gridwidth": 2
           },
           "yaxis": {
            "backgroundcolor": "#E5ECF6",
            "gridcolor": "white",
            "linecolor": "white",
            "showbackground": true,
            "ticks": "",
            "zerolinecolor": "white",
            "gridwidth": 2
           },
           "zaxis": {
            "backgroundcolor": "#E5ECF6",
            "gridcolor": "white",
            "linecolor": "white",
            "showbackground": true,
            "ticks": "",
            "zerolinecolor": "white",
            "gridwidth": 2
           }
          },
          "shapedefaults": {
           "line": {
            "color": "#2a3f5f"
           }
          },
          "annotationdefaults": {
           "arrowcolor": "#2a3f5f",
           "arrowhead": 0,
           "arrowwidth": 1
          },
          "geo": {
           "bgcolor": "white",
           "landcolor": "#E5ECF6",
           "subunitcolor": "white",
           "showland": true,
           "showlakes": true,
           "lakecolor": "white"
          },
          "title": {
           "x": 0.05
          },
          "mapbox": {
           "style": "light"
          }
         }
        },
        "xaxis": {
         "anchor": "y",
         "domain": [
          0.0,
          1.0
         ],
         "scaleanchor": "y",
         "constrain": "domain",
         "title": {
          "text": "time"
         }
        },
        "yaxis": {
         "anchor": "x",
         "domain": [
          0.0,
          1.0
         ],
         "autorange": "reversed",
         "constrain": "domain",
         "title": {
          "text": "layer"
         }
        },
        "coloraxis": {
         "colorscale": [
          [
           0.0,
           "rgb(103,0,31)"
          ],
          [
           0.1,
           "rgb(178,24,43)"
          ],
          [
           0.2,
           "rgb(214,96,77)"
          ],
          [
           0.3,
           "rgb(244,165,130)"
          ],
          [
           0.4,
           "rgb(253,219,199)"
          ],
          [
           0.5,
           "rgb(247,247,247)"
          ],
          [
           0.6,
           "rgb(209,229,240)"
          ],
          [
           0.7,
           "rgb(146,197,222)"
          ],
          [
           0.8,
           "rgb(67,147,195)"
          ],
          [
           0.9,
           "rgb(33,102,172)"
          ],
          [
           1.0,
           "rgb(5,48,97)"
          ]
         ],
         "cmid": 0.0,
         "cmin": -0.5,
         "cmax": 0.5
        },
        "title": {
         "text": "Probe on move 11 trying to predict the state of D3 at given timestep<br>Accuracy improvement over baseline (dataset stats)"
        }
       },
       "config": {
        "plotlyServerURL": "https://plot.ly"
       }
      },
      "text/html": "<div>                            <div id=\"4bb586a3-addc-489c-a3bc-2539552cdee8\" class=\"plotly-graph-div\" style=\"height:525px; width:100%;\"></div>            <script type=\"text/javascript\">                require([\"plotly\"], function(Plotly) {                    window.PLOTLYENV=window.PLOTLYENV || {};                                    if (document.getElementById(\"4bb586a3-addc-489c-a3bc-2539552cdee8\")) {                    Plotly.newPlot(                        \"4bb586a3-addc-489c-a3bc-2539552cdee8\",                        [{\"coloraxis\":\"coloraxis\",\"name\":\"0\",\"z\":[[0.367000013589859,0.16300010681152344,0.156000018119812,0.08099991083145142,0.09200000762939453,0.12400001287460327,0.14200007915496826,0.18599998950958252,0.2180001139640808,0.3889999985694885,0.4299998879432678,0.421999990940094]],\"type\":\"heatmap\",\"xaxis\":\"x\",\"yaxis\":\"y\",\"hovertemplate\":\"x: %{x}\\u003cbr\\u003ey: %{y}\\u003cbr\\u003ecolor: %{z}\\u003cextra\\u003e\\u003c\\u002fextra\\u003e\"}],                        {\"template\":{\"data\":{\"histogram2dcontour\":[{\"type\":\"histogram2dcontour\",\"colorbar\":{\"outlinewidth\":0,\"ticks\":\"\"},\"colorscale\":[[0.0,\"#0d0887\"],[0.1111111111111111,\"#46039f\"],[0.2222222222222222,\"#7201a8\"],[0.3333333333333333,\"#9c179e\"],[0.4444444444444444,\"#bd3786\"],[0.5555555555555556,\"#d8576b\"],[0.6666666666666666,\"#ed7953\"],[0.7777777777777778,\"#fb9f3a\"],[0.8888888888888888,\"#fdca26\"],[1.0,\"#f0f921\"]]}],\"choropleth\":[{\"type\":\"choropleth\",\"colorbar\":{\"outlinewidth\":0,\"ticks\":\"\"}}],\"histogram2d\":[{\"type\":\"histogram2d\",\"colorbar\":{\"outlinewidth\":0,\"ticks\":\"\"},\"colorscale\":[[0.0,\"#0d0887\"],[0.1111111111111111,\"#46039f\"],[0.2222222222222222,\"#7201a8\"],[0.3333333333333333,\"#9c179e\"],[0.4444444444444444,\"#bd3786\"],[0.5555555555555556,\"#d8576b\"],[0.6666666666666666,\"#ed7953\"],[0.7777777777777778,\"#fb9f3a\"],[0.8888888888888888,\"#fdca26\"],[1.0,\"#f0f921\"]]}],\"heatmap\":[{\"type\":\"heatmap\",\"colorbar\":{\"outlinewidth\":0,\"ticks\":\"\"},\"colorscale\":[[0.0,\"#0d0887\"],[0.1111111111111111,\"#46039f\"],[0.2222222222222222,\"#7201a8\"],[0.3333333333333333,\"#9c179e\"],[0.4444444444444444,\"#bd3786\"],[0.5555555555555556,\"#d8576b\"],[0.6666666666666666,\"#ed7953\"],[0.7777777777777778,\"#fb9f3a\"],[0.8888888888888888,\"#fdca26\"],[1.0,\"#f0f921\"]]}],\"heatmapgl\":[{\"type\":\"heatmapgl\",\"colorbar\":{\"outlinewidth\":0,\"ticks\":\"\"},\"colorscale\":[[0.0,\"#0d0887\"],[0.1111111111111111,\"#46039f\"],[0.2222222222222222,\"#7201a8\"],[0.3333333333333333,\"#9c179e\"],[0.4444444444444444,\"#bd3786\"],[0.5555555555555556,\"#d8576b\"],[0.6666666666666666,\"#ed7953\"],[0.7777777777777778,\"#fb9f3a\"],[0.8888888888888888,\"#fdca26\"],[1.0,\"#f0f921\"]]}],\"contourcarpet\":[{\"type\":\"contourcarpet\",\"colorbar\":{\"outlinewidth\":0,\"ticks\":\"\"}}],\"contour\":[{\"type\":\"contour\",\"colorbar\":{\"outlinewidth\":0,\"ticks\":\"\"},\"colorscale\":[[0.0,\"#0d0887\"],[0.1111111111111111,\"#46039f\"],[0.2222222222222222,\"#7201a8\"],[0.3333333333333333,\"#9c179e\"],[0.4444444444444444,\"#bd3786\"],[0.5555555555555556,\"#d8576b\"],[0.6666666666666666,\"#ed7953\"],[0.7777777777777778,\"#fb9f3a\"],[0.8888888888888888,\"#fdca26\"],[1.0,\"#f0f921\"]]}],\"surface\":[{\"type\":\"surface\",\"colorbar\":{\"outlinewidth\":0,\"ticks\":\"\"},\"colorscale\":[[0.0,\"#0d0887\"],[0.1111111111111111,\"#46039f\"],[0.2222222222222222,\"#7201a8\"],[0.3333333333333333,\"#9c179e\"],[0.4444444444444444,\"#bd3786\"],[0.5555555555555556,\"#d8576b\"],[0.6666666666666666,\"#ed7953\"],[0.7777777777777778,\"#fb9f3a\"],[0.8888888888888888,\"#fdca26\"],[1.0,\"#f0f921\"]]}],\"mesh3d\":[{\"type\":\"mesh3d\",\"colorbar\":{\"outlinewidth\":0,\"ticks\":\"\"}}],\"scatter\":[{\"fillpattern\":{\"fillmode\":\"overlay\",\"size\":10,\"solidity\":0.2},\"type\":\"scatter\"}],\"parcoords\":[{\"type\":\"parcoords\",\"line\":{\"colorbar\":{\"outlinewidth\":0,\"ticks\":\"\"}}}],\"scatterpolargl\":[{\"type\":\"scatterpolargl\",\"marker\":{\"colorbar\":{\"outlinewidth\":0,\"ticks\":\"\"}}}],\"bar\":[{\"error_x\":{\"color\":\"#2a3f5f\"},\"error_y\":{\"color\":\"#2a3f5f\"},\"marker\":{\"line\":{\"color\":\"#E5ECF6\",\"width\":0.5},\"pattern\":{\"fillmode\":\"overlay\",\"size\":10,\"solidity\":0.2}},\"type\":\"bar\"}],\"scattergeo\":[{\"type\":\"scattergeo\",\"marker\":{\"colorbar\":{\"outlinewidth\":0,\"ticks\":\"\"}}}],\"scatterpolar\":[{\"type\":\"scatterpolar\",\"marker\":{\"colorbar\":{\"outlinewidth\":0,\"ticks\":\"\"}}}],\"histogram\":[{\"marker\":{\"pattern\":{\"fillmode\":\"overlay\",\"size\":10,\"solidity\":0.2}},\"type\":\"histogram\"}],\"scattergl\":[{\"type\":\"scattergl\",\"marker\":{\"colorbar\":{\"outlinewidth\":0,\"ticks\":\"\"}}}],\"scatter3d\":[{\"type\":\"scatter3d\",\"line\":{\"colorbar\":{\"outlinewidth\":0,\"ticks\":\"\"}},\"marker\":{\"colorbar\":{\"outlinewidth\":0,\"ticks\":\"\"}}}],\"scattermapbox\":[{\"type\":\"scattermapbox\",\"marker\":{\"colorbar\":{\"outlinewidth\":0,\"ticks\":\"\"}}}],\"scatterternary\":[{\"type\":\"scatterternary\",\"marker\":{\"colorbar\":{\"outlinewidth\":0,\"ticks\":\"\"}}}],\"scattercarpet\":[{\"type\":\"scattercarpet\",\"marker\":{\"colorbar\":{\"outlinewidth\":0,\"ticks\":\"\"}}}],\"carpet\":[{\"aaxis\":{\"endlinecolor\":\"#2a3f5f\",\"gridcolor\":\"white\",\"linecolor\":\"white\",\"minorgridcolor\":\"white\",\"startlinecolor\":\"#2a3f5f\"},\"baxis\":{\"endlinecolor\":\"#2a3f5f\",\"gridcolor\":\"white\",\"linecolor\":\"white\",\"minorgridcolor\":\"white\",\"startlinecolor\":\"#2a3f5f\"},\"type\":\"carpet\"}],\"table\":[{\"cells\":{\"fill\":{\"color\":\"#EBF0F8\"},\"line\":{\"color\":\"white\"}},\"header\":{\"fill\":{\"color\":\"#C8D4E3\"},\"line\":{\"color\":\"white\"}},\"type\":\"table\"}],\"barpolar\":[{\"marker\":{\"line\":{\"color\":\"#E5ECF6\",\"width\":0.5},\"pattern\":{\"fillmode\":\"overlay\",\"size\":10,\"solidity\":0.2}},\"type\":\"barpolar\"}],\"pie\":[{\"automargin\":true,\"type\":\"pie\"}]},\"layout\":{\"autotypenumbers\":\"strict\",\"colorway\":[\"#636efa\",\"#EF553B\",\"#00cc96\",\"#ab63fa\",\"#FFA15A\",\"#19d3f3\",\"#FF6692\",\"#B6E880\",\"#FF97FF\",\"#FECB52\"],\"font\":{\"color\":\"#2a3f5f\"},\"hovermode\":\"closest\",\"hoverlabel\":{\"align\":\"left\"},\"paper_bgcolor\":\"white\",\"plot_bgcolor\":\"#E5ECF6\",\"polar\":{\"bgcolor\":\"#E5ECF6\",\"angularaxis\":{\"gridcolor\":\"white\",\"linecolor\":\"white\",\"ticks\":\"\"},\"radialaxis\":{\"gridcolor\":\"white\",\"linecolor\":\"white\",\"ticks\":\"\"}},\"ternary\":{\"bgcolor\":\"#E5ECF6\",\"aaxis\":{\"gridcolor\":\"white\",\"linecolor\":\"white\",\"ticks\":\"\"},\"baxis\":{\"gridcolor\":\"white\",\"linecolor\":\"white\",\"ticks\":\"\"},\"caxis\":{\"gridcolor\":\"white\",\"linecolor\":\"white\",\"ticks\":\"\"}},\"coloraxis\":{\"colorbar\":{\"outlinewidth\":0,\"ticks\":\"\"}},\"colorscale\":{\"sequential\":[[0.0,\"#0d0887\"],[0.1111111111111111,\"#46039f\"],[0.2222222222222222,\"#7201a8\"],[0.3333333333333333,\"#9c179e\"],[0.4444444444444444,\"#bd3786\"],[0.5555555555555556,\"#d8576b\"],[0.6666666666666666,\"#ed7953\"],[0.7777777777777778,\"#fb9f3a\"],[0.8888888888888888,\"#fdca26\"],[1.0,\"#f0f921\"]],\"sequentialminus\":[[0.0,\"#0d0887\"],[0.1111111111111111,\"#46039f\"],[0.2222222222222222,\"#7201a8\"],[0.3333333333333333,\"#9c179e\"],[0.4444444444444444,\"#bd3786\"],[0.5555555555555556,\"#d8576b\"],[0.6666666666666666,\"#ed7953\"],[0.7777777777777778,\"#fb9f3a\"],[0.8888888888888888,\"#fdca26\"],[1.0,\"#f0f921\"]],\"diverging\":[[0,\"#8e0152\"],[0.1,\"#c51b7d\"],[0.2,\"#de77ae\"],[0.3,\"#f1b6da\"],[0.4,\"#fde0ef\"],[0.5,\"#f7f7f7\"],[0.6,\"#e6f5d0\"],[0.7,\"#b8e186\"],[0.8,\"#7fbc41\"],[0.9,\"#4d9221\"],[1,\"#276419\"]]},\"xaxis\":{\"gridcolor\":\"white\",\"linecolor\":\"white\",\"ticks\":\"\",\"title\":{\"standoff\":15},\"zerolinecolor\":\"white\",\"automargin\":true,\"zerolinewidth\":2},\"yaxis\":{\"gridcolor\":\"white\",\"linecolor\":\"white\",\"ticks\":\"\",\"title\":{\"standoff\":15},\"zerolinecolor\":\"white\",\"automargin\":true,\"zerolinewidth\":2},\"scene\":{\"xaxis\":{\"backgroundcolor\":\"#E5ECF6\",\"gridcolor\":\"white\",\"linecolor\":\"white\",\"showbackground\":true,\"ticks\":\"\",\"zerolinecolor\":\"white\",\"gridwidth\":2},\"yaxis\":{\"backgroundcolor\":\"#E5ECF6\",\"gridcolor\":\"white\",\"linecolor\":\"white\",\"showbackground\":true,\"ticks\":\"\",\"zerolinecolor\":\"white\",\"gridwidth\":2},\"zaxis\":{\"backgroundcolor\":\"#E5ECF6\",\"gridcolor\":\"white\",\"linecolor\":\"white\",\"showbackground\":true,\"ticks\":\"\",\"zerolinecolor\":\"white\",\"gridwidth\":2}},\"shapedefaults\":{\"line\":{\"color\":\"#2a3f5f\"}},\"annotationdefaults\":{\"arrowcolor\":\"#2a3f5f\",\"arrowhead\":0,\"arrowwidth\":1},\"geo\":{\"bgcolor\":\"white\",\"landcolor\":\"#E5ECF6\",\"subunitcolor\":\"white\",\"showland\":true,\"showlakes\":true,\"lakecolor\":\"white\"},\"title\":{\"x\":0.05},\"mapbox\":{\"style\":\"light\"}}},\"xaxis\":{\"anchor\":\"y\",\"domain\":[0.0,1.0],\"scaleanchor\":\"y\",\"constrain\":\"domain\",\"title\":{\"text\":\"time\"}},\"yaxis\":{\"anchor\":\"x\",\"domain\":[0.0,1.0],\"autorange\":\"reversed\",\"constrain\":\"domain\",\"title\":{\"text\":\"layer\"}},\"coloraxis\":{\"colorscale\":[[0.0,\"rgb(103,0,31)\"],[0.1,\"rgb(178,24,43)\"],[0.2,\"rgb(214,96,77)\"],[0.3,\"rgb(244,165,130)\"],[0.4,\"rgb(253,219,199)\"],[0.5,\"rgb(247,247,247)\"],[0.6,\"rgb(209,229,240)\"],[0.7,\"rgb(146,197,222)\"],[0.8,\"rgb(67,147,195)\"],[0.9,\"rgb(33,102,172)\"],[1.0,\"rgb(5,48,97)\"]],\"cmid\":0.0,\"cmin\":-0.5,\"cmax\":0.5},\"title\":{\"text\":\"Probe on move 11 trying to predict the state of D3 at given timestep\\u003cbr\\u003eAccuracy improvement over baseline (dataset stats)\"}},                        {\"responsive\": true}                    ).then(function(){\n                            \nvar gd = document.getElementById('4bb586a3-addc-489c-a3bc-2539552cdee8');\nvar x = new MutationObserver(function (mutations, observer) {{\n        var display = window.getComputedStyle(gd).display;\n        if (!display || display === 'none') {{\n            console.log([gd, 'removed!']);\n            Plotly.purge(gd);\n            observer.disconnect();\n        }}\n}});\n\n// Listen for the removal of the full notebook cells\nvar notebookContainer = gd.closest('#notebook-container');\nif (notebookContainer) {{\n    x.observe(notebookContainer, {childList: true});\n}}\n\n// Listen for the clearing of the current output cell\nvar outputEl = gd.closest('.output');\nif (outputEl) {{\n    x.observe(outputEl, {childList: true});\n}}\n\n                        })                };                });            </script>        </div>"
     },
     "metadata": {},
     "output_type": "display_data"
    }
   ],
   "source": [
    "# nice plot\n",
    "from circuit import MagicTensor\n",
    "\n",
    "(MagicTensor(t.stack(losses) - baseline_random, ['layer', 'metric', 'time'])\n",
    "    .by('metric')\n",
    "    ['metric', 1]\n",
    "    .plot(title=f\"Probe on move {probes[0].config.trained_on} trying to predict the state of {probes[0].config.cell} at given timestep\"\n",
    "          \"<br>Accuracy improvement over baseline (dataset stats)\",\n",
    "          color_continuous_scale='RdBu',\n",
    "          color_continuous_midpoint=0.0,\n",
    "          zmax=0.5,\n",
    "          zmin=-0.5,\n",
    "          # facet_labels=[\"Loss\", \"Accuracy\"],\n",
    "          # facet_col_wrap=1,\n",
    "          )\n",
    ");"
   ]
  },
  {
   "cell_type": "code",
   "execution_count": null,
   "outputs": [],
   "source": [],
   "metadata": {
    "collapsed": false
   }
  },
  {
   "cell_type": "code",
   "execution_count": 33,
   "outputs": [
    {
     "data": {
      "text/plain": "tensor([[[inf, inf, inf, inf, inf, inf, inf, inf, inf, inf, inf, inf],\n         [0., 0., 0., 0., 0., 0., 0., 0., 0., 0., 0., 0.]]], device='cuda:0')"
     },
     "execution_count": 33,
     "metadata": {},
     "output_type": "execute_result"
    }
   ],
   "source": [
    "baseline_stats"
   ],
   "metadata": {
    "collapsed": false,
    "ExecuteTime": {
     "end_time": "2023-06-18T00:08:51.470632816Z",
     "start_time": "2023-06-18T00:08:51.428135939Z"
    }
   }
  },
  {
   "cell_type": "code",
   "execution_count": null,
   "metadata": {},
   "outputs": [],
   "source": [
    "from circuit import MagicTensor\n",
    "(MagicTensor(t.stack([p.probe for p in probes]), ['layer', 'option', 'move', 'dmodel'])\n",
    "    .norm('dmodel')\n",
    "    ['layer', 5]\n",
    "    ['option', 0]\n",
    "    # .new_dim('facet')\n",
    "    # .flatten('move', 'dmodel')\n",
    "    # .flatten('layer', 'option')\n",
    "    .flatten()\n",
    "    .print()\n",
    "    # .histogram(nbins=100)\n",
    "    .plot()\n",
    " )"
   ]
  },
  {
   "cell_type": "markdown",
   "source": [
    "### Results: knowledge of previous state of D3"
   ],
   "metadata": {
    "collapsed": false
   }
  },
  {
   "cell_type": "code",
   "execution_count": 67,
   "outputs": [
    {
     "data": {
      "text/plain": "  0%|          | 0/8 [00:00<?, ?it/s]",
      "application/vnd.jupyter.widget-view+json": {
       "version_major": 2,
       "version_minor": 0,
       "model_id": "9d1914cd28b047f09e94748290d5bbe5"
      }
     },
     "metadata": {},
     "output_type": "display_data"
    }
   ],
   "source": [
    "from probes import OthelloProbe\n",
    "# Load the probes\n",
    "d3_probes = [OthelloProbe.load(model, layer=layer, num_probes=41, options=2, cell=\"D3\", num_val_games=1000) for layer in range(8)]\n",
    "# Fix the dims since I changed the probe format\n",
    "for p in d3_probes:\n",
    "    p.probe = t.nn.Parameter(einops.rearrange(p.probe, 'option probe dmodel -> probe option dmodel'))\n",
    "d3_cfg = d3_probes[0].config\n",
    "# Compute their losses\n",
    "val_data = p.dataloader(val_tokens[:, :d3_cfg.num_probes], for_validation=True)\n",
    "d3_losses = t.stack([\n",
    "    probe.validate(val_data, use_wandb=False)\n",
    "    for probe in tqdm(d3_probes)\n",
    "])"
   ],
   "metadata": {
    "collapsed": false,
    "ExecuteTime": {
     "end_time": "2023-06-18T00:52:33.559225819Z",
     "start_time": "2023-06-18T00:52:30.285220827Z"
    }
   }
  },
  {
   "cell_type": "code",
   "execution_count": 70,
   "outputs": [
    {
     "data": {
      "application/vnd.plotly.v1+json": {
       "data": [
        {
         "coloraxis": "coloraxis",
         "name": "0",
         "z": [
          [
           0.22499996423721313,
           0.020000100135803223,
           0.06200003623962402,
           0.024999916553497314,
           0.017000019550323486,
           0.029000043869018555,
           0.01700007915496826,
           0.021000027656555176,
           0.01500004529953003,
           0.042999982833862305,
           0.04799997806549072,
           0.030999958515167236,
           0.039999961853027344,
           0.02799999713897705,
           0.04700005054473877,
           0.032000064849853516,
           0.033000051975250244,
           0.046999990940093994,
           0.017000019550323486,
           0.020000040531158447,
           0.0030000805854797363,
           0.013999998569488525,
           0.013999998569488525,
           0.041999995708465576,
           0.008000016212463379,
           0.04999995231628418,
           0.04900002479553223,
           0.050999999046325684,
           0.04100006818771362,
           0.05100005865097046,
           0.038999974727630615,
           0.05400007963180542,
           0.061000049114227295,
           0.08800011873245239,
           0.09200000762939453,
           0.09799998998641968,
           0.10000002384185791,
           0.11000001430511475,
           0.1350000500679016,
           0.15000009536743164,
           0.18199998140335083
          ],
          [
           0.22100001573562622,
           0.029000043869018555,
           0.06400001049041748,
           0.00299990177154541,
           0.009000003337860107,
           0.017000019550323486,
           0.017000019550323486,
           -0.005999922752380371,
           0.013999998569488525,
           -0.003000020980834961,
           0.0140000581741333,
           0.010999977588653564,
           0.007999956607818604,
           9.999871253967285E-4,
           0.014999985694885254,
           -0.013000011444091797,
           0.016000032424926758,
           -0.001000046730041504,
           5.9604644775390625E-8,
           0.005000054836273193,
           -0.022000014781951904,
           0.009000062942504883,
           0.0040000081062316895,
           0.026000022888183594,
           -0.004999995231628418,
           0.031999945640563965,
           0.02100008726119995,
           0.04899996519088745,
           0.03200000524520874,
           0.04700005054473877,
           0.035999953746795654,
           0.06499999761581421,
           0.08100003004074097,
           0.09900003671646118,
           0.1239999532699585,
           0.10500001907348633,
           0.1600000262260437,
           0.15100008249282837,
           0.21500003337860107,
           0.22700005769729614,
           0.25099998712539673
          ],
          [
           0.21199995279312134,
           0.030000030994415283,
           0.050000011920928955,
           -0.0010001063346862793,
           0.013999998569488525,
           0.009000003337860107,
           0.009000003337860107,
           -0.009000003337860107,
           0.003000020980834961,
           -0.004999935626983643,
           0.010999977588653564,
           0.0020000338554382324,
           0.014999985694885254,
           -0.003000020980834961,
           0.024000048637390137,
           -0.023000001907348633,
           0.021000027656555176,
           -0.003000020980834961,
           0.009000062942504883,
           -0.006999969482421875,
           -0.010999917984008789,
           -0.0059999823570251465,
           -0.009000003337860107,
           0.009999990463256836,
           0.001999974250793457,
           0.02799999713897705,
           0.029000043869018555,
           0.042999982833862305,
           0.054000020027160645,
           0.078000009059906,
           0.03799992799758911,
           0.07700002193450928,
           0.09299999475479126,
           0.14400005340576172,
           0.15099996328353882,
           0.1589999794960022,
           0.19800007343292236,
           0.2120000123977661,
           0.27900004386901855,
           0.299000084400177,
           0.3210000991821289
          ],
          [
           0.21099990606307983,
           0.02500009536743164,
           0.0559999942779541,
           9.999275207519531E-4,
           0.006000041961669922,
           0.01100003719329834,
           0.004999995231628418,
           -0.005999922752380371,
           0.0040000081062316895,
           -0.014999985694885254,
           -0.0040000081062316895,
           -0.004000067710876465,
           -0.0029999613761901855,
           -0.008000016212463379,
           0.02100008726119995,
           -0.013999998569488525,
           0.019000113010406494,
           -0.008000016212463379,
           0.009000062942504883,
           0.0020000338554382324,
           -0.004999995231628418,
           0.00700002908706665,
           0.02799999713897705,
           0.02399998903274536,
           0.02399998903274536,
           0.042999982833862305,
           0.04000002145767212,
           0.0549999475479126,
           0.08399999141693115,
           0.09800004959106445,
           0.09599995613098145,
           0.12800002098083496,
           0.14100003242492676,
           0.18000000715255737,
           0.18900001049041748,
           0.19200003147125244,
           0.22200006246566772,
           0.2580000162124634,
           0.315000057220459,
           0.35600006580352783,
           0.3680000901222229
          ],
          [
           0.2049999237060547,
           0.024000048637390137,
           0.046000003814697266,
           0.0019999146461486816,
           0.013999998569488525,
           0.007000088691711426,
           0.015999972820281982,
           -0.009999990463256836,
           0.003000020980834961,
           -0.0020000338554382324,
           -0.009000003337860107,
           -0.009000062942504883,
           -0.003000020980834961,
           -0.011999964714050293,
           0.009000003337860107,
           -0.009999990463256836,
           -0.004999995231628418,
           -0.00700002908706665,
           0.00700002908706665,
           -0.023000001907348633,
           -0.015999972820281982,
           -0.019999921321868896,
           -0.010999977588653564,
           -0.014999985694885254,
           -0.004999995231628418,
           0.015999972820281982,
           0.02799999713897705,
           0.05299997329711914,
           0.06099998950958252,
           0.09900003671646118,
           0.08199995756149292,
           0.1499999761581421,
           0.1470000147819519,
           0.19200003147125244,
           0.1940000057220459,
           0.21100002527236938,
           0.2549999952316284,
           0.29600000381469727,
           0.37500011920928955,
           0.40900009870529175,
           0.41800010204315186
          ],
          [
           0.18999993801116943,
           0.004000067710876465,
           0.030999958515167236,
           -0.0010001063346862793,
           0.003000020980834961,
           -0.006999969482421875,
           0.004999995231628418,
           -0.012000024318695068,
           -0.010999977588653564,
           -0.0040000081062316895,
           0.0029999613761901855,
           -0.016000032424926758,
           0.004999995231628418,
           -0.023000001907348633,
           -0.0209999680519104,
           -0.019999980926513672,
           -0.023000001907348633,
           -0.009999990463256836,
           0.005000054836273193,
           -0.012999892234802246,
           -0.001999974250793457,
           -0.027999937534332275,
           0.01100003719329834,
           -0.018000006675720215,
           0.014999985694885254,
           0.02799999713897705,
           0.01800006628036499,
           0.04599994421005249,
           0.06599998474121094,
           0.08900004625320435,
           0.09900003671646118,
           0.14000004529953003,
           0.15700000524520874,
           0.20500004291534424,
           0.21599996089935303,
           0.2470000982284546,
           0.2889999747276306,
           0.32499998807907104,
           0.3980001211166382,
           0.4370000958442688,
           0.4450000524520874
          ],
          [
           0.18499994277954102,
           0.017000019550323486,
           0.02399998903274536,
           -0.016000092029571533,
           0.0,
           -0.0059999823570251465,
           0.0,
           -0.001999974250793457,
           -9.999871253967285E-4,
           -0.013999998569488525,
           0.0059999823570251465,
           -0.01800006628036499,
           0.0040000081062316895,
           -0.022000014781951904,
           -0.0040000081062316895,
           -0.017000019550323486,
           -0.02399998903274536,
           -0.003000020980834961,
           0.008000016212463379,
           -0.008999943733215332,
           -0.001999974250793457,
           -0.01399993896484375,
           -0.011999964714050293,
           -0.009000003337860107,
           0.001999974250793457,
           0.02199995517730713,
           0.014999985694885254,
           0.04799997806549072,
           0.04300004243850708,
           0.0910000205039978,
           0.07100003957748413,
           0.14099997282028198,
           0.14700007438659668,
           0.20100003480911255,
           0.21699994802474976,
           0.24700003862380981,
           0.2940000295639038,
           0.31800007820129395,
           0.40000009536743164,
           0.44200003147125244,
           0.453000009059906
          ],
          [
           0.18800002336502075,
           0.013999998569488525,
           0.02199995517730713,
           -0.016000092029571533,
           0.003000020980834961,
           0.001000046730041504,
           9.999871253967285E-4,
           9.999871253967285E-4,
           -0.0029999613761901855,
           -0.018999993801116943,
           -0.001000046730041504,
           -0.0140000581741333,
           -0.012000024318695068,
           -0.006999969482421875,
           -0.003999948501586914,
           -0.015999913215637207,
           -0.015999972820281982,
           -0.008000016212463379,
           -0.013000011444091797,
           0.006000041961669922,
           0.004999995231628418,
           -0.011999905109405518,
           -0.010999977588653564,
           -0.006999969482421875,
           -0.009000003337860107,
           0.026000022888183594,
           0.014999985694885254,
           0.05299997329711914,
           0.03700000047683716,
           0.08200007677078247,
           0.05799996852874756,
           0.12699997425079346,
           0.12000000476837158,
           0.1820000410079956,
           0.19399994611740112,
           0.22400003671646118,
           0.27500003576278687,
           0.3060000538825989,
           0.3880000114440918,
           0.4410000443458557,
           0.4510000944137573
          ]
         ],
         "type": "heatmap",
         "xaxis": "x",
         "yaxis": "y",
         "hovertemplate": "x: %{x}<br>y: %{y}<br>color: %{z}<extra></extra>"
        }
       ],
       "layout": {
        "template": {
         "data": {
          "histogram2dcontour": [
           {
            "type": "histogram2dcontour",
            "colorbar": {
             "outlinewidth": 0,
             "ticks": ""
            },
            "colorscale": [
             [
              0.0,
              "#0d0887"
             ],
             [
              0.1111111111111111,
              "#46039f"
             ],
             [
              0.2222222222222222,
              "#7201a8"
             ],
             [
              0.3333333333333333,
              "#9c179e"
             ],
             [
              0.4444444444444444,
              "#bd3786"
             ],
             [
              0.5555555555555556,
              "#d8576b"
             ],
             [
              0.6666666666666666,
              "#ed7953"
             ],
             [
              0.7777777777777778,
              "#fb9f3a"
             ],
             [
              0.8888888888888888,
              "#fdca26"
             ],
             [
              1.0,
              "#f0f921"
             ]
            ]
           }
          ],
          "choropleth": [
           {
            "type": "choropleth",
            "colorbar": {
             "outlinewidth": 0,
             "ticks": ""
            }
           }
          ],
          "histogram2d": [
           {
            "type": "histogram2d",
            "colorbar": {
             "outlinewidth": 0,
             "ticks": ""
            },
            "colorscale": [
             [
              0.0,
              "#0d0887"
             ],
             [
              0.1111111111111111,
              "#46039f"
             ],
             [
              0.2222222222222222,
              "#7201a8"
             ],
             [
              0.3333333333333333,
              "#9c179e"
             ],
             [
              0.4444444444444444,
              "#bd3786"
             ],
             [
              0.5555555555555556,
              "#d8576b"
             ],
             [
              0.6666666666666666,
              "#ed7953"
             ],
             [
              0.7777777777777778,
              "#fb9f3a"
             ],
             [
              0.8888888888888888,
              "#fdca26"
             ],
             [
              1.0,
              "#f0f921"
             ]
            ]
           }
          ],
          "heatmap": [
           {
            "type": "heatmap",
            "colorbar": {
             "outlinewidth": 0,
             "ticks": ""
            },
            "colorscale": [
             [
              0.0,
              "#0d0887"
             ],
             [
              0.1111111111111111,
              "#46039f"
             ],
             [
              0.2222222222222222,
              "#7201a8"
             ],
             [
              0.3333333333333333,
              "#9c179e"
             ],
             [
              0.4444444444444444,
              "#bd3786"
             ],
             [
              0.5555555555555556,
              "#d8576b"
             ],
             [
              0.6666666666666666,
              "#ed7953"
             ],
             [
              0.7777777777777778,
              "#fb9f3a"
             ],
             [
              0.8888888888888888,
              "#fdca26"
             ],
             [
              1.0,
              "#f0f921"
             ]
            ]
           }
          ],
          "heatmapgl": [
           {
            "type": "heatmapgl",
            "colorbar": {
             "outlinewidth": 0,
             "ticks": ""
            },
            "colorscale": [
             [
              0.0,
              "#0d0887"
             ],
             [
              0.1111111111111111,
              "#46039f"
             ],
             [
              0.2222222222222222,
              "#7201a8"
             ],
             [
              0.3333333333333333,
              "#9c179e"
             ],
             [
              0.4444444444444444,
              "#bd3786"
             ],
             [
              0.5555555555555556,
              "#d8576b"
             ],
             [
              0.6666666666666666,
              "#ed7953"
             ],
             [
              0.7777777777777778,
              "#fb9f3a"
             ],
             [
              0.8888888888888888,
              "#fdca26"
             ],
             [
              1.0,
              "#f0f921"
             ]
            ]
           }
          ],
          "contourcarpet": [
           {
            "type": "contourcarpet",
            "colorbar": {
             "outlinewidth": 0,
             "ticks": ""
            }
           }
          ],
          "contour": [
           {
            "type": "contour",
            "colorbar": {
             "outlinewidth": 0,
             "ticks": ""
            },
            "colorscale": [
             [
              0.0,
              "#0d0887"
             ],
             [
              0.1111111111111111,
              "#46039f"
             ],
             [
              0.2222222222222222,
              "#7201a8"
             ],
             [
              0.3333333333333333,
              "#9c179e"
             ],
             [
              0.4444444444444444,
              "#bd3786"
             ],
             [
              0.5555555555555556,
              "#d8576b"
             ],
             [
              0.6666666666666666,
              "#ed7953"
             ],
             [
              0.7777777777777778,
              "#fb9f3a"
             ],
             [
              0.8888888888888888,
              "#fdca26"
             ],
             [
              1.0,
              "#f0f921"
             ]
            ]
           }
          ],
          "surface": [
           {
            "type": "surface",
            "colorbar": {
             "outlinewidth": 0,
             "ticks": ""
            },
            "colorscale": [
             [
              0.0,
              "#0d0887"
             ],
             [
              0.1111111111111111,
              "#46039f"
             ],
             [
              0.2222222222222222,
              "#7201a8"
             ],
             [
              0.3333333333333333,
              "#9c179e"
             ],
             [
              0.4444444444444444,
              "#bd3786"
             ],
             [
              0.5555555555555556,
              "#d8576b"
             ],
             [
              0.6666666666666666,
              "#ed7953"
             ],
             [
              0.7777777777777778,
              "#fb9f3a"
             ],
             [
              0.8888888888888888,
              "#fdca26"
             ],
             [
              1.0,
              "#f0f921"
             ]
            ]
           }
          ],
          "mesh3d": [
           {
            "type": "mesh3d",
            "colorbar": {
             "outlinewidth": 0,
             "ticks": ""
            }
           }
          ],
          "scatter": [
           {
            "fillpattern": {
             "fillmode": "overlay",
             "size": 10,
             "solidity": 0.2
            },
            "type": "scatter"
           }
          ],
          "parcoords": [
           {
            "type": "parcoords",
            "line": {
             "colorbar": {
              "outlinewidth": 0,
              "ticks": ""
             }
            }
           }
          ],
          "scatterpolargl": [
           {
            "type": "scatterpolargl",
            "marker": {
             "colorbar": {
              "outlinewidth": 0,
              "ticks": ""
             }
            }
           }
          ],
          "bar": [
           {
            "error_x": {
             "color": "#2a3f5f"
            },
            "error_y": {
             "color": "#2a3f5f"
            },
            "marker": {
             "line": {
              "color": "#E5ECF6",
              "width": 0.5
             },
             "pattern": {
              "fillmode": "overlay",
              "size": 10,
              "solidity": 0.2
             }
            },
            "type": "bar"
           }
          ],
          "scattergeo": [
           {
            "type": "scattergeo",
            "marker": {
             "colorbar": {
              "outlinewidth": 0,
              "ticks": ""
             }
            }
           }
          ],
          "scatterpolar": [
           {
            "type": "scatterpolar",
            "marker": {
             "colorbar": {
              "outlinewidth": 0,
              "ticks": ""
             }
            }
           }
          ],
          "histogram": [
           {
            "marker": {
             "pattern": {
              "fillmode": "overlay",
              "size": 10,
              "solidity": 0.2
             }
            },
            "type": "histogram"
           }
          ],
          "scattergl": [
           {
            "type": "scattergl",
            "marker": {
             "colorbar": {
              "outlinewidth": 0,
              "ticks": ""
             }
            }
           }
          ],
          "scatter3d": [
           {
            "type": "scatter3d",
            "line": {
             "colorbar": {
              "outlinewidth": 0,
              "ticks": ""
             }
            },
            "marker": {
             "colorbar": {
              "outlinewidth": 0,
              "ticks": ""
             }
            }
           }
          ],
          "scattermapbox": [
           {
            "type": "scattermapbox",
            "marker": {
             "colorbar": {
              "outlinewidth": 0,
              "ticks": ""
             }
            }
           }
          ],
          "scatterternary": [
           {
            "type": "scatterternary",
            "marker": {
             "colorbar": {
              "outlinewidth": 0,
              "ticks": ""
             }
            }
           }
          ],
          "scattercarpet": [
           {
            "type": "scattercarpet",
            "marker": {
             "colorbar": {
              "outlinewidth": 0,
              "ticks": ""
             }
            }
           }
          ],
          "carpet": [
           {
            "aaxis": {
             "endlinecolor": "#2a3f5f",
             "gridcolor": "white",
             "linecolor": "white",
             "minorgridcolor": "white",
             "startlinecolor": "#2a3f5f"
            },
            "baxis": {
             "endlinecolor": "#2a3f5f",
             "gridcolor": "white",
             "linecolor": "white",
             "minorgridcolor": "white",
             "startlinecolor": "#2a3f5f"
            },
            "type": "carpet"
           }
          ],
          "table": [
           {
            "cells": {
             "fill": {
              "color": "#EBF0F8"
             },
             "line": {
              "color": "white"
             }
            },
            "header": {
             "fill": {
              "color": "#C8D4E3"
             },
             "line": {
              "color": "white"
             }
            },
            "type": "table"
           }
          ],
          "barpolar": [
           {
            "marker": {
             "line": {
              "color": "#E5ECF6",
              "width": 0.5
             },
             "pattern": {
              "fillmode": "overlay",
              "size": 10,
              "solidity": 0.2
             }
            },
            "type": "barpolar"
           }
          ],
          "pie": [
           {
            "automargin": true,
            "type": "pie"
           }
          ]
         },
         "layout": {
          "autotypenumbers": "strict",
          "colorway": [
           "#636efa",
           "#EF553B",
           "#00cc96",
           "#ab63fa",
           "#FFA15A",
           "#19d3f3",
           "#FF6692",
           "#B6E880",
           "#FF97FF",
           "#FECB52"
          ],
          "font": {
           "color": "#2a3f5f"
          },
          "hovermode": "closest",
          "hoverlabel": {
           "align": "left"
          },
          "paper_bgcolor": "white",
          "plot_bgcolor": "#E5ECF6",
          "polar": {
           "bgcolor": "#E5ECF6",
           "angularaxis": {
            "gridcolor": "white",
            "linecolor": "white",
            "ticks": ""
           },
           "radialaxis": {
            "gridcolor": "white",
            "linecolor": "white",
            "ticks": ""
           }
          },
          "ternary": {
           "bgcolor": "#E5ECF6",
           "aaxis": {
            "gridcolor": "white",
            "linecolor": "white",
            "ticks": ""
           },
           "baxis": {
            "gridcolor": "white",
            "linecolor": "white",
            "ticks": ""
           },
           "caxis": {
            "gridcolor": "white",
            "linecolor": "white",
            "ticks": ""
           }
          },
          "coloraxis": {
           "colorbar": {
            "outlinewidth": 0,
            "ticks": ""
           }
          },
          "colorscale": {
           "sequential": [
            [
             0.0,
             "#0d0887"
            ],
            [
             0.1111111111111111,
             "#46039f"
            ],
            [
             0.2222222222222222,
             "#7201a8"
            ],
            [
             0.3333333333333333,
             "#9c179e"
            ],
            [
             0.4444444444444444,
             "#bd3786"
            ],
            [
             0.5555555555555556,
             "#d8576b"
            ],
            [
             0.6666666666666666,
             "#ed7953"
            ],
            [
             0.7777777777777778,
             "#fb9f3a"
            ],
            [
             0.8888888888888888,
             "#fdca26"
            ],
            [
             1.0,
             "#f0f921"
            ]
           ],
           "sequentialminus": [
            [
             0.0,
             "#0d0887"
            ],
            [
             0.1111111111111111,
             "#46039f"
            ],
            [
             0.2222222222222222,
             "#7201a8"
            ],
            [
             0.3333333333333333,
             "#9c179e"
            ],
            [
             0.4444444444444444,
             "#bd3786"
            ],
            [
             0.5555555555555556,
             "#d8576b"
            ],
            [
             0.6666666666666666,
             "#ed7953"
            ],
            [
             0.7777777777777778,
             "#fb9f3a"
            ],
            [
             0.8888888888888888,
             "#fdca26"
            ],
            [
             1.0,
             "#f0f921"
            ]
           ],
           "diverging": [
            [
             0,
             "#8e0152"
            ],
            [
             0.1,
             "#c51b7d"
            ],
            [
             0.2,
             "#de77ae"
            ],
            [
             0.3,
             "#f1b6da"
            ],
            [
             0.4,
             "#fde0ef"
            ],
            [
             0.5,
             "#f7f7f7"
            ],
            [
             0.6,
             "#e6f5d0"
            ],
            [
             0.7,
             "#b8e186"
            ],
            [
             0.8,
             "#7fbc41"
            ],
            [
             0.9,
             "#4d9221"
            ],
            [
             1,
             "#276419"
            ]
           ]
          },
          "xaxis": {
           "gridcolor": "white",
           "linecolor": "white",
           "ticks": "",
           "title": {
            "standoff": 15
           },
           "zerolinecolor": "white",
           "automargin": true,
           "zerolinewidth": 2
          },
          "yaxis": {
           "gridcolor": "white",
           "linecolor": "white",
           "ticks": "",
           "title": {
            "standoff": 15
           },
           "zerolinecolor": "white",
           "automargin": true,
           "zerolinewidth": 2
          },
          "scene": {
           "xaxis": {
            "backgroundcolor": "#E5ECF6",
            "gridcolor": "white",
            "linecolor": "white",
            "showbackground": true,
            "ticks": "",
            "zerolinecolor": "white",
            "gridwidth": 2
           },
           "yaxis": {
            "backgroundcolor": "#E5ECF6",
            "gridcolor": "white",
            "linecolor": "white",
            "showbackground": true,
            "ticks": "",
            "zerolinecolor": "white",
            "gridwidth": 2
           },
           "zaxis": {
            "backgroundcolor": "#E5ECF6",
            "gridcolor": "white",
            "linecolor": "white",
            "showbackground": true,
            "ticks": "",
            "zerolinecolor": "white",
            "gridwidth": 2
           }
          },
          "shapedefaults": {
           "line": {
            "color": "#2a3f5f"
           }
          },
          "annotationdefaults": {
           "arrowcolor": "#2a3f5f",
           "arrowhead": 0,
           "arrowwidth": 1
          },
          "geo": {
           "bgcolor": "white",
           "landcolor": "#E5ECF6",
           "subunitcolor": "white",
           "showland": true,
           "showlakes": true,
           "lakecolor": "white"
          },
          "title": {
           "x": 0.05
          },
          "mapbox": {
           "style": "light"
          }
         }
        },
        "xaxis": {
         "anchor": "y",
         "domain": [
          0.0,
          1.0
         ],
         "scaleanchor": "y",
         "constrain": "domain",
         "title": {
          "text": "time"
         }
        },
        "yaxis": {
         "anchor": "x",
         "domain": [
          0.0,
          1.0
         ],
         "autorange": "reversed",
         "constrain": "domain",
         "title": {
          "text": "layer"
         }
        },
        "coloraxis": {
         "colorscale": [
          [
           0.0,
           "rgb(103,0,31)"
          ],
          [
           0.1,
           "rgb(178,24,43)"
          ],
          [
           0.2,
           "rgb(214,96,77)"
          ],
          [
           0.3,
           "rgb(244,165,130)"
          ],
          [
           0.4,
           "rgb(253,219,199)"
          ],
          [
           0.5,
           "rgb(247,247,247)"
          ],
          [
           0.6,
           "rgb(209,229,240)"
          ],
          [
           0.7,
           "rgb(146,197,222)"
          ],
          [
           0.8,
           "rgb(67,147,195)"
          ],
          [
           0.9,
           "rgb(33,102,172)"
          ],
          [
           1.0,
           "rgb(5,48,97)"
          ]
         ],
         "cmid": 0.0,
         "cmin": -0.5,
         "cmax": 0.5
        },
        "title": {
         "text": "Probe on move 40 trying to predict the state of D3 at given timestep<br>Accuracy improvement over baseline (dataset stats)"
        }
       },
       "config": {
        "plotlyServerURL": "https://plot.ly"
       }
      },
      "text/html": "<div>                            <div id=\"3044706c-b42d-438a-9e29-3beb99de04d6\" class=\"plotly-graph-div\" style=\"height:525px; width:100%;\"></div>            <script type=\"text/javascript\">                require([\"plotly\"], function(Plotly) {                    window.PLOTLYENV=window.PLOTLYENV || {};                                    if (document.getElementById(\"3044706c-b42d-438a-9e29-3beb99de04d6\")) {                    Plotly.newPlot(                        \"3044706c-b42d-438a-9e29-3beb99de04d6\",                        [{\"coloraxis\":\"coloraxis\",\"name\":\"0\",\"z\":[[0.22499996423721313,0.020000100135803223,0.06200003623962402,0.024999916553497314,0.017000019550323486,0.029000043869018555,0.01700007915496826,0.021000027656555176,0.01500004529953003,0.042999982833862305,0.04799997806549072,0.030999958515167236,0.039999961853027344,0.02799999713897705,0.04700005054473877,0.032000064849853516,0.033000051975250244,0.046999990940093994,0.017000019550323486,0.020000040531158447,0.0030000805854797363,0.013999998569488525,0.013999998569488525,0.041999995708465576,0.008000016212463379,0.04999995231628418,0.04900002479553223,0.050999999046325684,0.04100006818771362,0.05100005865097046,0.038999974727630615,0.05400007963180542,0.061000049114227295,0.08800011873245239,0.09200000762939453,0.09799998998641968,0.10000002384185791,0.11000001430511475,0.1350000500679016,0.15000009536743164,0.18199998140335083],[0.22100001573562622,0.029000043869018555,0.06400001049041748,0.00299990177154541,0.009000003337860107,0.017000019550323486,0.017000019550323486,-0.005999922752380371,0.013999998569488525,-0.003000020980834961,0.0140000581741333,0.010999977588653564,0.007999956607818604,0.0009999871253967285,0.014999985694885254,-0.013000011444091797,0.016000032424926758,-0.001000046730041504,5.960464477539063e-08,0.005000054836273193,-0.022000014781951904,0.009000062942504883,0.0040000081062316895,0.026000022888183594,-0.004999995231628418,0.031999945640563965,0.02100008726119995,0.04899996519088745,0.03200000524520874,0.04700005054473877,0.035999953746795654,0.06499999761581421,0.08100003004074097,0.09900003671646118,0.1239999532699585,0.10500001907348633,0.1600000262260437,0.15100008249282837,0.21500003337860107,0.22700005769729614,0.25099998712539673],[0.21199995279312134,0.030000030994415283,0.050000011920928955,-0.0010001063346862793,0.013999998569488525,0.009000003337860107,0.009000003337860107,-0.009000003337860107,0.003000020980834961,-0.004999935626983643,0.010999977588653564,0.0020000338554382324,0.014999985694885254,-0.003000020980834961,0.024000048637390137,-0.023000001907348633,0.021000027656555176,-0.003000020980834961,0.009000062942504883,-0.006999969482421875,-0.010999917984008789,-0.0059999823570251465,-0.009000003337860107,0.009999990463256836,0.001999974250793457,0.02799999713897705,0.029000043869018555,0.042999982833862305,0.054000020027160645,0.078000009059906,0.03799992799758911,0.07700002193450928,0.09299999475479126,0.14400005340576172,0.15099996328353882,0.1589999794960022,0.19800007343292236,0.2120000123977661,0.27900004386901855,0.299000084400177,0.3210000991821289],[0.21099990606307983,0.02500009536743164,0.0559999942779541,0.0009999275207519531,0.006000041961669922,0.01100003719329834,0.004999995231628418,-0.005999922752380371,0.0040000081062316895,-0.014999985694885254,-0.0040000081062316895,-0.004000067710876465,-0.0029999613761901855,-0.008000016212463379,0.02100008726119995,-0.013999998569488525,0.019000113010406494,-0.008000016212463379,0.009000062942504883,0.0020000338554382324,-0.004999995231628418,0.00700002908706665,0.02799999713897705,0.02399998903274536,0.02399998903274536,0.042999982833862305,0.04000002145767212,0.0549999475479126,0.08399999141693115,0.09800004959106445,0.09599995613098145,0.12800002098083496,0.14100003242492676,0.18000000715255737,0.18900001049041748,0.19200003147125244,0.22200006246566772,0.2580000162124634,0.315000057220459,0.35600006580352783,0.3680000901222229],[0.2049999237060547,0.024000048637390137,0.046000003814697266,0.0019999146461486816,0.013999998569488525,0.007000088691711426,0.015999972820281982,-0.009999990463256836,0.003000020980834961,-0.0020000338554382324,-0.009000003337860107,-0.009000062942504883,-0.003000020980834961,-0.011999964714050293,0.009000003337860107,-0.009999990463256836,-0.004999995231628418,-0.00700002908706665,0.00700002908706665,-0.023000001907348633,-0.015999972820281982,-0.019999921321868896,-0.010999977588653564,-0.014999985694885254,-0.004999995231628418,0.015999972820281982,0.02799999713897705,0.05299997329711914,0.06099998950958252,0.09900003671646118,0.08199995756149292,0.1499999761581421,0.1470000147819519,0.19200003147125244,0.1940000057220459,0.21100002527236938,0.2549999952316284,0.29600000381469727,0.37500011920928955,0.40900009870529175,0.41800010204315186],[0.18999993801116943,0.004000067710876465,0.030999958515167236,-0.0010001063346862793,0.003000020980834961,-0.006999969482421875,0.004999995231628418,-0.012000024318695068,-0.010999977588653564,-0.0040000081062316895,0.0029999613761901855,-0.016000032424926758,0.004999995231628418,-0.023000001907348633,-0.0209999680519104,-0.019999980926513672,-0.023000001907348633,-0.009999990463256836,0.005000054836273193,-0.012999892234802246,-0.001999974250793457,-0.027999937534332275,0.01100003719329834,-0.018000006675720215,0.014999985694885254,0.02799999713897705,0.01800006628036499,0.04599994421005249,0.06599998474121094,0.08900004625320435,0.09900003671646118,0.14000004529953003,0.15700000524520874,0.20500004291534424,0.21599996089935303,0.2470000982284546,0.2889999747276306,0.32499998807907104,0.3980001211166382,0.4370000958442688,0.4450000524520874],[0.18499994277954102,0.017000019550323486,0.02399998903274536,-0.016000092029571533,0.0,-0.0059999823570251465,0.0,-0.001999974250793457,-0.0009999871253967285,-0.013999998569488525,0.0059999823570251465,-0.01800006628036499,0.0040000081062316895,-0.022000014781951904,-0.0040000081062316895,-0.017000019550323486,-0.02399998903274536,-0.003000020980834961,0.008000016212463379,-0.008999943733215332,-0.001999974250793457,-0.01399993896484375,-0.011999964714050293,-0.009000003337860107,0.001999974250793457,0.02199995517730713,0.014999985694885254,0.04799997806549072,0.04300004243850708,0.0910000205039978,0.07100003957748413,0.14099997282028198,0.14700007438659668,0.20100003480911255,0.21699994802474976,0.24700003862380981,0.2940000295639038,0.31800007820129395,0.40000009536743164,0.44200003147125244,0.453000009059906],[0.18800002336502075,0.013999998569488525,0.02199995517730713,-0.016000092029571533,0.003000020980834961,0.001000046730041504,0.0009999871253967285,0.0009999871253967285,-0.0029999613761901855,-0.018999993801116943,-0.001000046730041504,-0.0140000581741333,-0.012000024318695068,-0.006999969482421875,-0.003999948501586914,-0.015999913215637207,-0.015999972820281982,-0.008000016212463379,-0.013000011444091797,0.006000041961669922,0.004999995231628418,-0.011999905109405518,-0.010999977588653564,-0.006999969482421875,-0.009000003337860107,0.026000022888183594,0.014999985694885254,0.05299997329711914,0.03700000047683716,0.08200007677078247,0.05799996852874756,0.12699997425079346,0.12000000476837158,0.1820000410079956,0.19399994611740112,0.22400003671646118,0.27500003576278687,0.3060000538825989,0.3880000114440918,0.4410000443458557,0.4510000944137573]],\"type\":\"heatmap\",\"xaxis\":\"x\",\"yaxis\":\"y\",\"hovertemplate\":\"x: %{x}\\u003cbr\\u003ey: %{y}\\u003cbr\\u003ecolor: %{z}\\u003cextra\\u003e\\u003c\\u002fextra\\u003e\"}],                        {\"template\":{\"data\":{\"histogram2dcontour\":[{\"type\":\"histogram2dcontour\",\"colorbar\":{\"outlinewidth\":0,\"ticks\":\"\"},\"colorscale\":[[0.0,\"#0d0887\"],[0.1111111111111111,\"#46039f\"],[0.2222222222222222,\"#7201a8\"],[0.3333333333333333,\"#9c179e\"],[0.4444444444444444,\"#bd3786\"],[0.5555555555555556,\"#d8576b\"],[0.6666666666666666,\"#ed7953\"],[0.7777777777777778,\"#fb9f3a\"],[0.8888888888888888,\"#fdca26\"],[1.0,\"#f0f921\"]]}],\"choropleth\":[{\"type\":\"choropleth\",\"colorbar\":{\"outlinewidth\":0,\"ticks\":\"\"}}],\"histogram2d\":[{\"type\":\"histogram2d\",\"colorbar\":{\"outlinewidth\":0,\"ticks\":\"\"},\"colorscale\":[[0.0,\"#0d0887\"],[0.1111111111111111,\"#46039f\"],[0.2222222222222222,\"#7201a8\"],[0.3333333333333333,\"#9c179e\"],[0.4444444444444444,\"#bd3786\"],[0.5555555555555556,\"#d8576b\"],[0.6666666666666666,\"#ed7953\"],[0.7777777777777778,\"#fb9f3a\"],[0.8888888888888888,\"#fdca26\"],[1.0,\"#f0f921\"]]}],\"heatmap\":[{\"type\":\"heatmap\",\"colorbar\":{\"outlinewidth\":0,\"ticks\":\"\"},\"colorscale\":[[0.0,\"#0d0887\"],[0.1111111111111111,\"#46039f\"],[0.2222222222222222,\"#7201a8\"],[0.3333333333333333,\"#9c179e\"],[0.4444444444444444,\"#bd3786\"],[0.5555555555555556,\"#d8576b\"],[0.6666666666666666,\"#ed7953\"],[0.7777777777777778,\"#fb9f3a\"],[0.8888888888888888,\"#fdca26\"],[1.0,\"#f0f921\"]]}],\"heatmapgl\":[{\"type\":\"heatmapgl\",\"colorbar\":{\"outlinewidth\":0,\"ticks\":\"\"},\"colorscale\":[[0.0,\"#0d0887\"],[0.1111111111111111,\"#46039f\"],[0.2222222222222222,\"#7201a8\"],[0.3333333333333333,\"#9c179e\"],[0.4444444444444444,\"#bd3786\"],[0.5555555555555556,\"#d8576b\"],[0.6666666666666666,\"#ed7953\"],[0.7777777777777778,\"#fb9f3a\"],[0.8888888888888888,\"#fdca26\"],[1.0,\"#f0f921\"]]}],\"contourcarpet\":[{\"type\":\"contourcarpet\",\"colorbar\":{\"outlinewidth\":0,\"ticks\":\"\"}}],\"contour\":[{\"type\":\"contour\",\"colorbar\":{\"outlinewidth\":0,\"ticks\":\"\"},\"colorscale\":[[0.0,\"#0d0887\"],[0.1111111111111111,\"#46039f\"],[0.2222222222222222,\"#7201a8\"],[0.3333333333333333,\"#9c179e\"],[0.4444444444444444,\"#bd3786\"],[0.5555555555555556,\"#d8576b\"],[0.6666666666666666,\"#ed7953\"],[0.7777777777777778,\"#fb9f3a\"],[0.8888888888888888,\"#fdca26\"],[1.0,\"#f0f921\"]]}],\"surface\":[{\"type\":\"surface\",\"colorbar\":{\"outlinewidth\":0,\"ticks\":\"\"},\"colorscale\":[[0.0,\"#0d0887\"],[0.1111111111111111,\"#46039f\"],[0.2222222222222222,\"#7201a8\"],[0.3333333333333333,\"#9c179e\"],[0.4444444444444444,\"#bd3786\"],[0.5555555555555556,\"#d8576b\"],[0.6666666666666666,\"#ed7953\"],[0.7777777777777778,\"#fb9f3a\"],[0.8888888888888888,\"#fdca26\"],[1.0,\"#f0f921\"]]}],\"mesh3d\":[{\"type\":\"mesh3d\",\"colorbar\":{\"outlinewidth\":0,\"ticks\":\"\"}}],\"scatter\":[{\"fillpattern\":{\"fillmode\":\"overlay\",\"size\":10,\"solidity\":0.2},\"type\":\"scatter\"}],\"parcoords\":[{\"type\":\"parcoords\",\"line\":{\"colorbar\":{\"outlinewidth\":0,\"ticks\":\"\"}}}],\"scatterpolargl\":[{\"type\":\"scatterpolargl\",\"marker\":{\"colorbar\":{\"outlinewidth\":0,\"ticks\":\"\"}}}],\"bar\":[{\"error_x\":{\"color\":\"#2a3f5f\"},\"error_y\":{\"color\":\"#2a3f5f\"},\"marker\":{\"line\":{\"color\":\"#E5ECF6\",\"width\":0.5},\"pattern\":{\"fillmode\":\"overlay\",\"size\":10,\"solidity\":0.2}},\"type\":\"bar\"}],\"scattergeo\":[{\"type\":\"scattergeo\",\"marker\":{\"colorbar\":{\"outlinewidth\":0,\"ticks\":\"\"}}}],\"scatterpolar\":[{\"type\":\"scatterpolar\",\"marker\":{\"colorbar\":{\"outlinewidth\":0,\"ticks\":\"\"}}}],\"histogram\":[{\"marker\":{\"pattern\":{\"fillmode\":\"overlay\",\"size\":10,\"solidity\":0.2}},\"type\":\"histogram\"}],\"scattergl\":[{\"type\":\"scattergl\",\"marker\":{\"colorbar\":{\"outlinewidth\":0,\"ticks\":\"\"}}}],\"scatter3d\":[{\"type\":\"scatter3d\",\"line\":{\"colorbar\":{\"outlinewidth\":0,\"ticks\":\"\"}},\"marker\":{\"colorbar\":{\"outlinewidth\":0,\"ticks\":\"\"}}}],\"scattermapbox\":[{\"type\":\"scattermapbox\",\"marker\":{\"colorbar\":{\"outlinewidth\":0,\"ticks\":\"\"}}}],\"scatterternary\":[{\"type\":\"scatterternary\",\"marker\":{\"colorbar\":{\"outlinewidth\":0,\"ticks\":\"\"}}}],\"scattercarpet\":[{\"type\":\"scattercarpet\",\"marker\":{\"colorbar\":{\"outlinewidth\":0,\"ticks\":\"\"}}}],\"carpet\":[{\"aaxis\":{\"endlinecolor\":\"#2a3f5f\",\"gridcolor\":\"white\",\"linecolor\":\"white\",\"minorgridcolor\":\"white\",\"startlinecolor\":\"#2a3f5f\"},\"baxis\":{\"endlinecolor\":\"#2a3f5f\",\"gridcolor\":\"white\",\"linecolor\":\"white\",\"minorgridcolor\":\"white\",\"startlinecolor\":\"#2a3f5f\"},\"type\":\"carpet\"}],\"table\":[{\"cells\":{\"fill\":{\"color\":\"#EBF0F8\"},\"line\":{\"color\":\"white\"}},\"header\":{\"fill\":{\"color\":\"#C8D4E3\"},\"line\":{\"color\":\"white\"}},\"type\":\"table\"}],\"barpolar\":[{\"marker\":{\"line\":{\"color\":\"#E5ECF6\",\"width\":0.5},\"pattern\":{\"fillmode\":\"overlay\",\"size\":10,\"solidity\":0.2}},\"type\":\"barpolar\"}],\"pie\":[{\"automargin\":true,\"type\":\"pie\"}]},\"layout\":{\"autotypenumbers\":\"strict\",\"colorway\":[\"#636efa\",\"#EF553B\",\"#00cc96\",\"#ab63fa\",\"#FFA15A\",\"#19d3f3\",\"#FF6692\",\"#B6E880\",\"#FF97FF\",\"#FECB52\"],\"font\":{\"color\":\"#2a3f5f\"},\"hovermode\":\"closest\",\"hoverlabel\":{\"align\":\"left\"},\"paper_bgcolor\":\"white\",\"plot_bgcolor\":\"#E5ECF6\",\"polar\":{\"bgcolor\":\"#E5ECF6\",\"angularaxis\":{\"gridcolor\":\"white\",\"linecolor\":\"white\",\"ticks\":\"\"},\"radialaxis\":{\"gridcolor\":\"white\",\"linecolor\":\"white\",\"ticks\":\"\"}},\"ternary\":{\"bgcolor\":\"#E5ECF6\",\"aaxis\":{\"gridcolor\":\"white\",\"linecolor\":\"white\",\"ticks\":\"\"},\"baxis\":{\"gridcolor\":\"white\",\"linecolor\":\"white\",\"ticks\":\"\"},\"caxis\":{\"gridcolor\":\"white\",\"linecolor\":\"white\",\"ticks\":\"\"}},\"coloraxis\":{\"colorbar\":{\"outlinewidth\":0,\"ticks\":\"\"}},\"colorscale\":{\"sequential\":[[0.0,\"#0d0887\"],[0.1111111111111111,\"#46039f\"],[0.2222222222222222,\"#7201a8\"],[0.3333333333333333,\"#9c179e\"],[0.4444444444444444,\"#bd3786\"],[0.5555555555555556,\"#d8576b\"],[0.6666666666666666,\"#ed7953\"],[0.7777777777777778,\"#fb9f3a\"],[0.8888888888888888,\"#fdca26\"],[1.0,\"#f0f921\"]],\"sequentialminus\":[[0.0,\"#0d0887\"],[0.1111111111111111,\"#46039f\"],[0.2222222222222222,\"#7201a8\"],[0.3333333333333333,\"#9c179e\"],[0.4444444444444444,\"#bd3786\"],[0.5555555555555556,\"#d8576b\"],[0.6666666666666666,\"#ed7953\"],[0.7777777777777778,\"#fb9f3a\"],[0.8888888888888888,\"#fdca26\"],[1.0,\"#f0f921\"]],\"diverging\":[[0,\"#8e0152\"],[0.1,\"#c51b7d\"],[0.2,\"#de77ae\"],[0.3,\"#f1b6da\"],[0.4,\"#fde0ef\"],[0.5,\"#f7f7f7\"],[0.6,\"#e6f5d0\"],[0.7,\"#b8e186\"],[0.8,\"#7fbc41\"],[0.9,\"#4d9221\"],[1,\"#276419\"]]},\"xaxis\":{\"gridcolor\":\"white\",\"linecolor\":\"white\",\"ticks\":\"\",\"title\":{\"standoff\":15},\"zerolinecolor\":\"white\",\"automargin\":true,\"zerolinewidth\":2},\"yaxis\":{\"gridcolor\":\"white\",\"linecolor\":\"white\",\"ticks\":\"\",\"title\":{\"standoff\":15},\"zerolinecolor\":\"white\",\"automargin\":true,\"zerolinewidth\":2},\"scene\":{\"xaxis\":{\"backgroundcolor\":\"#E5ECF6\",\"gridcolor\":\"white\",\"linecolor\":\"white\",\"showbackground\":true,\"ticks\":\"\",\"zerolinecolor\":\"white\",\"gridwidth\":2},\"yaxis\":{\"backgroundcolor\":\"#E5ECF6\",\"gridcolor\":\"white\",\"linecolor\":\"white\",\"showbackground\":true,\"ticks\":\"\",\"zerolinecolor\":\"white\",\"gridwidth\":2},\"zaxis\":{\"backgroundcolor\":\"#E5ECF6\",\"gridcolor\":\"white\",\"linecolor\":\"white\",\"showbackground\":true,\"ticks\":\"\",\"zerolinecolor\":\"white\",\"gridwidth\":2}},\"shapedefaults\":{\"line\":{\"color\":\"#2a3f5f\"}},\"annotationdefaults\":{\"arrowcolor\":\"#2a3f5f\",\"arrowhead\":0,\"arrowwidth\":1},\"geo\":{\"bgcolor\":\"white\",\"landcolor\":\"#E5ECF6\",\"subunitcolor\":\"white\",\"showland\":true,\"showlakes\":true,\"lakecolor\":\"white\"},\"title\":{\"x\":0.05},\"mapbox\":{\"style\":\"light\"}}},\"xaxis\":{\"anchor\":\"y\",\"domain\":[0.0,1.0],\"scaleanchor\":\"y\",\"constrain\":\"domain\",\"title\":{\"text\":\"time\"}},\"yaxis\":{\"anchor\":\"x\",\"domain\":[0.0,1.0],\"autorange\":\"reversed\",\"constrain\":\"domain\",\"title\":{\"text\":\"layer\"}},\"coloraxis\":{\"colorscale\":[[0.0,\"rgb(103,0,31)\"],[0.1,\"rgb(178,24,43)\"],[0.2,\"rgb(214,96,77)\"],[0.3,\"rgb(244,165,130)\"],[0.4,\"rgb(253,219,199)\"],[0.5,\"rgb(247,247,247)\"],[0.6,\"rgb(209,229,240)\"],[0.7,\"rgb(146,197,222)\"],[0.8,\"rgb(67,147,195)\"],[0.9,\"rgb(33,102,172)\"],[1.0,\"rgb(5,48,97)\"]],\"cmid\":0.0,\"cmin\":-0.5,\"cmax\":0.5},\"title\":{\"text\":\"Probe on move 40 trying to predict the state of D3 at given timestep\\u003cbr\\u003eAccuracy improvement over baseline (dataset stats)\"}},                        {\"responsive\": true}                    ).then(function(){\n                            \nvar gd = document.getElementById('3044706c-b42d-438a-9e29-3beb99de04d6');\nvar x = new MutationObserver(function (mutations, observer) {{\n        var display = window.getComputedStyle(gd).display;\n        if (!display || display === 'none') {{\n            console.log([gd, 'removed!']);\n            Plotly.purge(gd);\n            observer.disconnect();\n        }}\n}});\n\n// Listen for the removal of the full notebook cells\nvar notebookContainer = gd.closest('#notebook-container');\nif (notebookContainer) {{\n    x.observe(notebookContainer, {childList: true});\n}}\n\n// Listen for the clearing of the current output cell\nvar outputEl = gd.closest('.output');\nif (outputEl) {{\n    x.observe(outputEl, {childList: true});\n}}\n\n                        })                };                });            </script>        </div>"
     },
     "metadata": {},
     "output_type": "display_data"
    }
   ],
   "source": [
    "from probes import baselines\n",
    "(MagicTensor(d3_losses - baselines(d3_probes, val_data, 'random'), ['layer', 'metric', 'time'])\n",
    " ['metric', 1]\n",
    " .plot(title=f\"Probe on move {d3_cfg.trained_on} trying to predict the state of {d3_cfg.cell} at given timestep\"\n",
    "             \"<br>Accuracy improvement over baseline (dataset stats)\",\n",
    "       color_continuous_scale='RdBu',\n",
    "       color_continuous_midpoint=0.0,\n",
    "       zmax=0.5,\n",
    "       zmin=-0.5,\n",
    "       )\n",
    " );\n"
   ],
   "metadata": {
    "collapsed": false,
    "ExecuteTime": {
     "end_time": "2023-06-18T00:53:10.373193636Z",
     "start_time": "2023-06-18T00:53:10.117990766Z"
    }
   }
  },
  {
   "attachments": {},
   "cell_type": "markdown",
   "metadata": {},
   "source": [
    "## Constructing residual stream"
   ]
  },
  {
   "cell_type": "code",
   "execution_count": null,
   "metadata": {},
   "outputs": [],
   "source": [
    "def make_residual_stream(\n",
    "    world: Union[Int[Tensor, \"row=8 cols=8\"], str],\n",
    "    probe: Float[Tensor, \"d_model rows cols options=3\"],\n",
    ") -> Float[Tensor, \"d_model\"]:\n",
    "    \"\"\"\n",
    "    Create the embedding of a board state according to the probe\n",
    "\n",
    "    Args:\n",
    "        world: the board state, with 0 for blank, +1 for mine, -1 for theirs\n",
    "        probe: directions in the residual stream that correspond to each square.\n",
    "            The last dimension is the options, with 0 for blank, 1 for mine, 2 for theirs\n",
    "    \"\"\"\n",
    "\n",
    "    if isinstance(world, str):\n",
    "        world = board_to_tensor(world)\n",
    "\n",
    "    d_model = probe.shape[0]\n",
    "    blank_direction = probe[..., 0] - (probe[..., 1] + probe[..., 2]) / 2\n",
    "    my_direction = probe[..., 1] - probe[..., 2]\n",
    "\n",
    "    world = world.to(probe.device)\n",
    "    embedding = t.zeros(d_model, device=probe.device)\n",
    "    for row in range(world.shape[0]):\n",
    "        for col in range(world.shape[1]):\n",
    "            if world[row, col] == 0:\n",
    "                embedding += blank_direction[:, row, col]\n",
    "            else:\n",
    "                embedding += my_direction[:, row, col] * world[row, col]\n",
    "\n",
    "    return embedding\n",
    "\n",
    "\n",
    "# %% Try to run the model on a virtual residual stream\n",
    "\n",
    "\n",
    "def hook(activation: Float[Tensor, \"game move d_model\"], hook: HookPoint):\n",
    "    activation[:, -1] = resid\n",
    "\n",
    "\n",
    "layer = 4\n",
    "act_name = utils.get_act_name(\"resid_pre\", layer)\n",
    "osef_input = focus_games_tokens[:1, :20]  # 1 game, 20 moves\n",
    "logits = model.run_with_hooks(osef_input, fwd_hooks=[(act_name, hook)])\n",
    "\n",
    "# Plot what the model predicts\n",
    "logits = logits_to_board(logits[0, -1], \"log_prob\")\n",
    "plot_square_as_board(logits, title=\"Model predictions\")\n"
   ]
  },
  {
   "cell_type": "code",
   "execution_count": null,
   "metadata": {},
   "outputs": [],
   "source": [
    "board = \"\"\"\n",
    "........\n",
    "........\n",
    "........\n",
    "...xo...\n",
    "...ox...\n",
    "........\n",
    "........\n",
    "........\n",
    "\"\"\"\n",
    "\n",
    "board_2 = \"\"\"\n",
    "........\n",
    "........\n",
    "........\n",
    "..xxxx..\n",
    ".xooooo.\n",
    ".o..ox..\n",
    ".x.oxo..\n",
    "........\n",
    "\"\"\"\n",
    "board_3 = \"\"\"\n",
    "........\n",
    "........\n",
    "........\n",
    "...xo...\n",
    "...oo...\n",
    "....o...\n",
    "........\n",
    "........\n",
    "\"\"\"\n",
    "\n",
    "board_tensor = board_to_tensor(board_3)\n",
    "resid = make_residual_stream(board_tensor, linear_probe)\n",
    "# plot_square_as_board(board_tensor)\n"
   ]
  },
  {
   "cell_type": "code",
   "execution_count": null,
   "metadata": {},
   "outputs": [],
   "source": [
    "@t.inference_mode()\n",
    "def modify_resid_given_probe(\n",
    "        model: HookedTransformer,\n",
    "        moves_orig: Int[Tensor, \"move\"],\n",
    "        moves_new: Int[Tensor, \"move\"],\n",
    "        *probes: Float[Tensor, \"d_model rows cols options=3\"],\n",
    "        layer: int = 6,\n",
    "        cells: Tuple[str, ...] = (),\n",
    "):\n",
    "    act_name = utils.get_act_name(\"resid_pre\", layer)\n",
    "    new_logits, new_cache = model.run_with_cache(\n",
    "        moves_new,\n",
    "        names_filter=lambda name: name == act_name,\n",
    "    )\n",
    "\n",
    "    def hook(orig_activation: Float[Tensor, \"game move d_model\"], hook: HookPoint):\n",
    "        # Step 0. Find a basis of the subspace of the probe\n",
    "        # collect the probe vectors\n",
    "        all_probes = t.stack(probes, dim=-1).to(orig_activation.device)\n",
    "        if cells:\n",
    "            rows_cols = t.tensor([board_label_to_row_col(cell) for cell in cells])\n",
    "            all_probes = all_probes[:, rows_cols[:, 0], rows_cols[:, 1]]\n",
    "\n",
    "        probe_vectors = einops.rearrange(all_probes, \"d_model ... -> (...) d_model\")\n",
    "\n",
    "        orig_activation[:, -1] = swap_subspace(\n",
    "            orig_activation[:, -1],\n",
    "            new_cache[act_name][:, -1],\n",
    "            probe_vectors,\n",
    "        )\n",
    "\n",
    "    patched_logits = model.run_with_hooks(\n",
    "        moves_orig,\n",
    "        fwd_hooks=[(act_name, hook)],\n",
    "    )\n",
    "\n",
    "    # display the logits\n",
    "    orig_valid_moves = move_sequence_to_state(tokens_to_board(moves_orig), mode=\"valid\")\n",
    "    if cells:\n",
    "        rows_cols = [board_label_to_row_col(cell) for cell in cells]\n",
    "        index = tuple(zip(*rows_cols))\n",
    "\n",
    "        # Compute the state of orig and new board\n",
    "        new_board_state = move_sequence_to_state(tokens_to_board(moves_new), mode=\"normal\")[0, -1]\n",
    "        orig_board_state = move_sequence_to_state(tokens_to_board(moves_orig), mode=\"normal\")[0, -1]\n",
    "        # Put the cells of the new board in the orig board\n",
    "        orig_board_state[index] = new_board_state[index]\n",
    "\n",
    "        valid_cells = valid_moves_from_board(orig_board_state, moves_orig.shape[1])\n",
    "        new_valid_moves = one_hot(valid_cells).reshape(1, 1, 8, 8)\n",
    "\n",
    "    else:\n",
    "        new_valid_moves = move_sequence_to_state(tokens_to_board(moves_new), mode=\"valid\")\n",
    "\n",
    "    orig_logits = logits_to_board(model(moves_orig)[0, -1], \"log_prob\")\n",
    "    patched_logits = logits_to_board(patched_logits[0, -1], \"log_prob\")\n",
    "    new_logits = logits_to_board(new_logits[0, -1], \"log_prob\")\n",
    "\n",
    "    scale = new_logits.abs().max().cpu()\n",
    "\n",
    "    to_stack = [\n",
    "        orig_valid_moves[0, -1] * scale,\n",
    "        orig_logits,\n",
    "        patched_logits,\n",
    "        new_logits,\n",
    "        new_valid_moves[0, -1] * scale,\n",
    "        patched_logits - orig_logits,\n",
    "    ]\n",
    "\n",
    "    all_logits = t.stack([t.cpu() for t in to_stack], dim=-1)\n",
    "    plot_square_as_board(\n",
    "        all_logits,\n",
    "        title=\"Model predictions\",\n",
    "        facet_col=-1,\n",
    "        facet_col_wrap=3,\n",
    "        facet_labels=[\n",
    "            \"New expected\",\n",
    "            \"new logits\",\n",
    "            \"logit diff (patch - orig)\",\n",
    "            \"original expected\",\n",
    "            \"original logits\",\n",
    "            \"patched logits\",\n",
    "        ],\n",
    "    )\n",
    "\n",
    "    # plot_square_as_board(logits_to_board(new_logits[0, -1], 'log_prob'),\n",
    "    #                      title=\"Model predictions (new)\")\n",
    "    # plot_square_as_board(logits_to_board(patched_logits[0, -1], 'log_prob'),\n",
    "    #                      title=\"Model predictions (patched)\")\n",
    "\n",
    "    # with model.hooks(fwd_hooks=[(act_name, hook)]):\n",
    "    #     plot_board_log_probs(\n",
    "    #         tokens_to_board(moves_new[0]),\n",
    "    #         patched_logits[0],\n",
    "    #     )\n",
    "\n",
    "\n",
    "orig_index = 2\n",
    "new_index = 3\n",
    "move_index = 20\n",
    "layer = 4\n",
    "orig_games = focus_games_tokens[orig_index:orig_index + 1, :move_index]\n",
    "new_games = focus_games_tokens[new_index:new_index + 1, :move_index]\n",
    "\n",
    "modify_resid_given_probe(model, orig_games, new_games, *probes, layer=layer, cells=[\"D2\"])\n"
   ]
  },
  {
   "cell_type": "code",
   "execution_count": null,
   "metadata": {},
   "outputs": [],
   "source": [
    "plot_single_board(focus_games_board_index[orig_index, :move_index], title=\"Original game\")\n",
    "plot_single_board(focus_games_board_index[new_index, :move_index], title=\"New game\")"
   ]
  }
 ],
 "metadata": {
  "kernelspec": {
   "display_name": "othello-wfvDuSXh-py3.11",
   "language": "python",
   "name": "python3"
  },
  "language_info": {
   "codemirror_mode": {
    "name": "ipython",
    "version": 3
   },
   "file_extension": ".py",
   "mimetype": "text/x-python",
   "name": "python",
   "nbconvert_exporter": "python",
   "pygments_lexer": "ipython3",
   "version": "3.11.3"
  },
  "orig_nbformat": 4
 },
 "nbformat": 4,
 "nbformat_minor": 2
}
